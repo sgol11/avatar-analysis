{
 "cells": [
  {
   "cell_type": "markdown",
   "metadata": {},
   "source": [
    "![title](https://i.imgur.com/XXrmxpp.jpeg)"
   ]
  },
  {
   "cell_type": "markdown",
   "metadata": {},
   "source": [
    "> *Avatar: The Last Airbender*, known as *Avatar: The Legend of Aang* in some regions, is an American animated television series produced by Nickelodeon Animation Studios. It aired on Nickelodeon for three seasons, from February 2005 to July 2008.\n",
    "> <br>\n",
    ">\n",
    "> Avatar is set in an Asiatic-like world in which certain people can manipulate one of the four elements — water, earth, fire, or air—with telekinetic variants of the Chinese martial arts known as \"bending\". The only individual who can bend all four elements, the \"Avatar\", is responsible for maintaining balance between the world's four nations, and serves as the bridge between the physical world and the spirit world. \n",
    "> <br>\n",
    ">\n",
    "> @Wikipedia\n",
    "\n",
    "![](https://64.media.tumblr.com/b1dc757e072b20026108c8cfcd640c85/tumblr_nvxnup0gzN1uic2oco1_640.jpg)"
   ]
  },
  {
   "cell_type": "markdown",
   "metadata": {},
   "source": [
    "*Avatar: The Last Airbender* is as popular today as it was before. It is still remaining in the top 10 [TV shows](https://www.imdb.com/chart/toptv/?ref_=nv_tvv_250) on the IMDb service and it is one of the most highly rated [animated TV shows](https://www.imdb.com/search/title/?genres=animation&sort=user_rating,desc&title_type=tv_series,mini_series&num_votes=5000,&pf_rd_m=A2FGELUUNOQJNL&pf_rd_p=f85d9bf4-1542-48d1-a7f9-48ac82dd85e7&pf_rd_r=AG9MZFF3D62SB6J5RX24&pf_rd_s=right-6&pf_rd_t=15506&pf_rd_i=toptv&ref_=chttvtp_gnr_3) as of this writing. \n",
    "\n",
    "\n",
    "\n"
   ]
  },
  {
   "cell_type": "code",
   "execution_count": 2,
   "metadata": {},
   "outputs": [],
   "source": [
    "import pandas as pd\n",
    "import numpy as np\n",
    "from scipy import stats\n",
    "\n",
    "import matplotlib.pyplot as plt\n",
    "import seaborn as sns\n",
    "\n",
    "from sqlalchemy import create_engine"
   ]
  },
  {
   "cell_type": "markdown",
   "metadata": {},
   "source": [
    "Dataset is taken from [Kaggle](https://www.kaggle.com/ekrembayar/avatar-the-last-air-bender). <br><br>\n",
    "There are 4 CSV files in the dataset: \n",
    "- avatar.csv\n",
    "- avatar_data.csv\n",
    "- scenes.csv\n",
    "- series_names.csv"
   ]
  },
  {
   "cell_type": "code",
   "execution_count": 3,
   "metadata": {},
   "outputs": [],
   "source": [
    "# Reading data from .csv files\n",
    "\n",
    "avatar = pd.read_csv('tables/avatar.csv', encoding = \"ISO-8859-1\", index_col=0)\n",
    "data = pd.read_csv('tables/avatar_data.csv', index_col=0)\n",
    "scenes = pd.read_csv('tables/scenes.csv', encoding = \"ISO-8859-1\", index_col=0)\n",
    "series = pd.read_csv('tables/series_names.csv', index_col=0)"
   ]
  },
  {
   "cell_type": "code",
   "execution_count": 4,
   "metadata": {},
   "outputs": [],
   "source": [
    "# Writing records stored in DataFrames to a SQL database\n",
    "# for further working with the query language\n",
    "\n",
    "engine = create_engine('sqlite://', echo=False)\n",
    "\n",
    "avatar.to_sql('avatar', con=engine, index='False')\n",
    "data.to_sql('data', con=engine, index='False')\n",
    "scenes.to_sql('scenes', con=engine, index='False')\n",
    "series.to_sql('series', con=engine, index='False')"
   ]
  },
  {
   "cell_type": "markdown",
   "metadata": {},
   "source": [
    "<h2 align=\"center\"> Preliminary Data Analysis </h2> "
   ]
  },
  {
   "cell_type": "markdown",
   "metadata": {},
   "source": [
    "First of all, let's look at our data. We need to analyze the content of the tables to understand what we are going to work with and find out if there are any missing values "
   ]
  },
  {
   "cell_type": "code",
   "execution_count": 5,
   "metadata": {},
   "outputs": [
    {
     "name": "stdout",
     "output_type": "stream",
     "text": [
      "Avatar\n",
      "id | book | book_num | chapter | chapter_num | character | full_text | character_words | writer | director | imdb_rating | \n",
      "\n",
      "Data\n",
      "book | director | imdb_rating | book_chapt | true_chapt | series_rating | \n",
      "\n",
      "Scenes\n",
      "id | scene_description | \n",
      "\n",
      "Series\n",
      "book | series_rating | halfway | "
     ]
    }
   ],
   "source": [
    "# names of table columns\n",
    "\n",
    "print('Avatar')\n",
    "for table in avatar.columns.tolist():\n",
    "    print(table, end=' | ')\n",
    "print('\\n\\nData')\n",
    "for table in data.columns.tolist():\n",
    "    print(table, end=' | ')\n",
    "print('\\n\\nScenes')\n",
    "for table in scenes.columns.tolist():\n",
    "    print(table, end=' | ')\n",
    "print('\\n\\nSeries')\n",
    "for table in series.columns.tolist():\n",
    "    print(table, end=' | ')"
   ]
  },
  {
   "cell_type": "code",
   "execution_count": 6,
   "metadata": {},
   "outputs": [
    {
     "data": {
      "text/html": [
       "<div>\n",
       "<style scoped>\n",
       "    .dataframe tbody tr th:only-of-type {\n",
       "        vertical-align: middle;\n",
       "    }\n",
       "\n",
       "    .dataframe tbody tr th {\n",
       "        vertical-align: top;\n",
       "    }\n",
       "\n",
       "    .dataframe thead th {\n",
       "        text-align: right;\n",
       "    }\n",
       "</style>\n",
       "<table border=\"1\" class=\"dataframe\">\n",
       "  <thead>\n",
       "    <tr style=\"text-align: right;\">\n",
       "      <th></th>\n",
       "      <th>id</th>\n",
       "      <th>book</th>\n",
       "      <th>book_num</th>\n",
       "      <th>chapter</th>\n",
       "      <th>chapter_num</th>\n",
       "      <th>character</th>\n",
       "      <th>full_text</th>\n",
       "      <th>character_words</th>\n",
       "      <th>writer</th>\n",
       "      <th>director</th>\n",
       "      <th>imdb_rating</th>\n",
       "    </tr>\n",
       "  </thead>\n",
       "  <tbody>\n",
       "    <tr>\n",
       "      <th>1</th>\n",
       "      <td>1</td>\n",
       "      <td>Water</td>\n",
       "      <td>1</td>\n",
       "      <td>The Boy in the Iceberg</td>\n",
       "      <td>1</td>\n",
       "      <td>Katara</td>\n",
       "      <td>Water. Earth. Fire. Air. My grandmother used t...</td>\n",
       "      <td>Water. Earth. Fire. Air. My grandmother used t...</td>\n",
       "      <td>&lt;U+200E&gt;Michael Dante DiMartino, Bryan Konietz...</td>\n",
       "      <td>Dave Filoni</td>\n",
       "      <td>8.1</td>\n",
       "    </tr>\n",
       "    <tr>\n",
       "      <th>2</th>\n",
       "      <td>2</td>\n",
       "      <td>Water</td>\n",
       "      <td>1</td>\n",
       "      <td>The Boy in the Iceberg</td>\n",
       "      <td>1</td>\n",
       "      <td>Scene Description</td>\n",
       "      <td>As the title card fades, the scene opens onto ...</td>\n",
       "      <td>NaN</td>\n",
       "      <td>&lt;U+200E&gt;Michael Dante DiMartino, Bryan Konietz...</td>\n",
       "      <td>Dave Filoni</td>\n",
       "      <td>8.1</td>\n",
       "    </tr>\n",
       "    <tr>\n",
       "      <th>3</th>\n",
       "      <td>3</td>\n",
       "      <td>Water</td>\n",
       "      <td>1</td>\n",
       "      <td>The Boy in the Iceberg</td>\n",
       "      <td>1</td>\n",
       "      <td>Sokka</td>\n",
       "      <td>It's not getting away from me this time. [Clos...</td>\n",
       "      <td>It's not getting away from me this time.  Watc...</td>\n",
       "      <td>&lt;U+200E&gt;Michael Dante DiMartino, Bryan Konietz...</td>\n",
       "      <td>Dave Filoni</td>\n",
       "      <td>8.1</td>\n",
       "    </tr>\n",
       "  </tbody>\n",
       "</table>\n",
       "</div>"
      ],
      "text/plain": [
       "   id   book  book_num                 chapter  chapter_num  \\\n",
       "1   1  Water         1  The Boy in the Iceberg            1   \n",
       "2   2  Water         1  The Boy in the Iceberg            1   \n",
       "3   3  Water         1  The Boy in the Iceberg            1   \n",
       "\n",
       "           character                                          full_text  \\\n",
       "1             Katara  Water. Earth. Fire. Air. My grandmother used t...   \n",
       "2  Scene Description  As the title card fades, the scene opens onto ...   \n",
       "3              Sokka  It's not getting away from me this time. [Clos...   \n",
       "\n",
       "                                     character_words  \\\n",
       "1  Water. Earth. Fire. Air. My grandmother used t...   \n",
       "2                                                NaN   \n",
       "3  It's not getting away from me this time.  Watc...   \n",
       "\n",
       "                                              writer     director  imdb_rating  \n",
       "1  <U+200E>Michael Dante DiMartino, Bryan Konietz...  Dave Filoni          8.1  \n",
       "2  <U+200E>Michael Dante DiMartino, Bryan Konietz...  Dave Filoni          8.1  \n",
       "3  <U+200E>Michael Dante DiMartino, Bryan Konietz...  Dave Filoni          8.1  "
      ]
     },
     "execution_count": 6,
     "metadata": {},
     "output_type": "execute_result"
    }
   ],
   "source": [
    "avatar.head(3)"
   ]
  },
  {
   "cell_type": "code",
   "execution_count": 7,
   "metadata": {},
   "outputs": [
    {
     "data": {
      "text/html": [
       "<div>\n",
       "<style scoped>\n",
       "    .dataframe tbody tr th:only-of-type {\n",
       "        vertical-align: middle;\n",
       "    }\n",
       "\n",
       "    .dataframe tbody tr th {\n",
       "        vertical-align: top;\n",
       "    }\n",
       "\n",
       "    .dataframe thead th {\n",
       "        text-align: right;\n",
       "    }\n",
       "</style>\n",
       "<table border=\"1\" class=\"dataframe\">\n",
       "  <thead>\n",
       "    <tr style=\"text-align: right;\">\n",
       "      <th></th>\n",
       "      <th>book</th>\n",
       "      <th>director</th>\n",
       "      <th>imdb_rating</th>\n",
       "      <th>book_chapt</th>\n",
       "      <th>true_chapt</th>\n",
       "      <th>series_rating</th>\n",
       "    </tr>\n",
       "  </thead>\n",
       "  <tbody>\n",
       "    <tr>\n",
       "      <th>1</th>\n",
       "      <td>Water</td>\n",
       "      <td>Dave Filoni</td>\n",
       "      <td>8.1</td>\n",
       "      <td>1</td>\n",
       "      <td>0</td>\n",
       "      <td>8.336991</td>\n",
       "    </tr>\n",
       "    <tr>\n",
       "      <th>2</th>\n",
       "      <td>Water</td>\n",
       "      <td>Dave Filoni</td>\n",
       "      <td>8.3</td>\n",
       "      <td>2</td>\n",
       "      <td>1</td>\n",
       "      <td>8.336991</td>\n",
       "    </tr>\n",
       "    <tr>\n",
       "      <th>3</th>\n",
       "      <td>Water</td>\n",
       "      <td>Lauren MacMullan</td>\n",
       "      <td>8.5</td>\n",
       "      <td>3</td>\n",
       "      <td>2</td>\n",
       "      <td>8.336991</td>\n",
       "    </tr>\n",
       "  </tbody>\n",
       "</table>\n",
       "</div>"
      ],
      "text/plain": [
       "    book          director  imdb_rating  book_chapt  true_chapt  series_rating\n",
       "1  Water       Dave Filoni          8.1           1           0       8.336991\n",
       "2  Water       Dave Filoni          8.3           2           1       8.336991\n",
       "3  Water  Lauren MacMullan          8.5           3           2       8.336991"
      ]
     },
     "execution_count": 7,
     "metadata": {},
     "output_type": "execute_result"
    }
   ],
   "source": [
    "data.head(3)"
   ]
  },
  {
   "cell_type": "code",
   "execution_count": 8,
   "metadata": {},
   "outputs": [
    {
     "data": {
      "text/html": [
       "<div>\n",
       "<style scoped>\n",
       "    .dataframe tbody tr th:only-of-type {\n",
       "        vertical-align: middle;\n",
       "    }\n",
       "\n",
       "    .dataframe tbody tr th {\n",
       "        vertical-align: top;\n",
       "    }\n",
       "\n",
       "    .dataframe thead th {\n",
       "        text-align: right;\n",
       "    }\n",
       "</style>\n",
       "<table border=\"1\" class=\"dataframe\">\n",
       "  <thead>\n",
       "    <tr style=\"text-align: right;\">\n",
       "      <th></th>\n",
       "      <th>id</th>\n",
       "      <th>scene_description</th>\n",
       "    </tr>\n",
       "  </thead>\n",
       "  <tbody>\n",
       "    <tr>\n",
       "      <th>1</th>\n",
       "      <td>3</td>\n",
       "      <td>[Close-up of the boy as he grins confidently o...</td>\n",
       "    </tr>\n",
       "    <tr>\n",
       "      <th>2</th>\n",
       "      <td>5</td>\n",
       "      <td>[Happily surprised.]</td>\n",
       "    </tr>\n",
       "    <tr>\n",
       "      <th>3</th>\n",
       "      <td>6</td>\n",
       "      <td>[Close-up of Sokka; whispering.]</td>\n",
       "    </tr>\n",
       "  </tbody>\n",
       "</table>\n",
       "</div>"
      ],
      "text/plain": [
       "   id                                  scene_description\n",
       "1   3  [Close-up of the boy as he grins confidently o...\n",
       "2   5                               [Happily surprised.]\n",
       "3   6                   [Close-up of Sokka; whispering.]"
      ]
     },
     "execution_count": 8,
     "metadata": {},
     "output_type": "execute_result"
    }
   ],
   "source": [
    "scenes.head(3)"
   ]
  },
  {
   "cell_type": "code",
   "execution_count": 9,
   "metadata": {},
   "outputs": [
    {
     "data": {
      "text/html": [
       "<div>\n",
       "<style scoped>\n",
       "    .dataframe tbody tr th:only-of-type {\n",
       "        vertical-align: middle;\n",
       "    }\n",
       "\n",
       "    .dataframe tbody tr th {\n",
       "        vertical-align: top;\n",
       "    }\n",
       "\n",
       "    .dataframe thead th {\n",
       "        text-align: right;\n",
       "    }\n",
       "</style>\n",
       "<table border=\"1\" class=\"dataframe\">\n",
       "  <thead>\n",
       "    <tr style=\"text-align: right;\">\n",
       "      <th></th>\n",
       "      <th>book</th>\n",
       "      <th>series_rating</th>\n",
       "      <th>halfway</th>\n",
       "    </tr>\n",
       "  </thead>\n",
       "  <tbody>\n",
       "    <tr>\n",
       "      <th>1</th>\n",
       "      <td>Earth</td>\n",
       "      <td>8.730077</td>\n",
       "      <td>31.5</td>\n",
       "    </tr>\n",
       "    <tr>\n",
       "      <th>2</th>\n",
       "      <td>Fire</td>\n",
       "      <td>8.862371</td>\n",
       "      <td>53.0</td>\n",
       "    </tr>\n",
       "    <tr>\n",
       "      <th>3</th>\n",
       "      <td>Water</td>\n",
       "      <td>8.336991</td>\n",
       "      <td>10.5</td>\n",
       "    </tr>\n",
       "  </tbody>\n",
       "</table>\n",
       "</div>"
      ],
      "text/plain": [
       "    book  series_rating  halfway\n",
       "1  Earth       8.730077     31.5\n",
       "2   Fire       8.862371     53.0\n",
       "3  Water       8.336991     10.5"
      ]
     },
     "execution_count": 9,
     "metadata": {},
     "output_type": "execute_result"
    }
   ],
   "source": [
    "series.head(3)"
   ]
  },
  {
   "cell_type": "code",
   "execution_count": 10,
   "metadata": {},
   "outputs": [
    {
     "name": "stdout",
     "output_type": "stream",
     "text": [
      "['character_words', 'imdb_rating']\n",
      "[]\n",
      "[]\n",
      "[]\n"
     ]
    }
   ],
   "source": [
    "# Columns with missing values\n",
    "\n",
    "print(avatar.columns[avatar.isna().any()].tolist())\n",
    "print(data.columns[data.isna().any()].tolist())\n",
    "print(scenes.columns[scenes.isna().any()].tolist())\n",
    "print(series.columns[series.isna().any()].tolist())"
   ]
  },
  {
   "cell_type": "markdown",
   "metadata": {},
   "source": [
    "There are only two columns with NaN values in the dataset. It is normal for the \"character_words\" column to have no values in some cases, since the characters may not say anything in certain scenes. But it is strange that there are missing values in the \"imdb_rating\" column of the \"Avatar\" table. <br>\n",
    "Let's see at these missing values and check if it is all right with the data in the column with the same name of another table"
   ]
  },
  {
   "cell_type": "code",
   "execution_count": 11,
   "metadata": {},
   "outputs": [
    {
     "name": "stdout",
     "output_type": "stream",
     "text": [
      "Missed:  161\n"
     ]
    },
    {
     "data": {
      "text/html": [
       "<div>\n",
       "<style scoped>\n",
       "    .dataframe tbody tr th:only-of-type {\n",
       "        vertical-align: middle;\n",
       "    }\n",
       "\n",
       "    .dataframe tbody tr th {\n",
       "        vertical-align: top;\n",
       "    }\n",
       "\n",
       "    .dataframe thead th {\n",
       "        text-align: right;\n",
       "    }\n",
       "</style>\n",
       "<table border=\"1\" class=\"dataframe\">\n",
       "  <thead>\n",
       "    <tr style=\"text-align: right;\">\n",
       "      <th></th>\n",
       "      <th>id</th>\n",
       "      <th>imdb_rating</th>\n",
       "    </tr>\n",
       "    <tr>\n",
       "      <th>chapter_num</th>\n",
       "      <th></th>\n",
       "      <th></th>\n",
       "    </tr>\n",
       "  </thead>\n",
       "  <tbody>\n",
       "    <tr>\n",
       "      <th>20</th>\n",
       "      <td>509</td>\n",
       "      <td>348</td>\n",
       "    </tr>\n",
       "  </tbody>\n",
       "</table>\n",
       "</div>"
      ],
      "text/plain": [
       "              id  imdb_rating\n",
       "chapter_num                  \n",
       "20           509          348"
      ]
     },
     "execution_count": 11,
     "metadata": {},
     "output_type": "execute_result"
    }
   ],
   "source": [
    "# Number of rows with missed values in the \"imdb_rating\" column\n",
    "\n",
    "df = avatar[['chapter_num', 'id', 'imdb_rating']].groupby(['chapter_num']).\\\n",
    "count().query('id != imdb_rating')\n",
    "\n",
    "print('Missed: ', int(df['id']) - int(df['imdb_rating']))\n",
    "df"
   ]
  },
  {
   "cell_type": "code",
   "execution_count": 12,
   "metadata": {},
   "outputs": [
    {
     "data": {
      "text/html": [
       "<div>\n",
       "<style scoped>\n",
       "    .dataframe tbody tr th:only-of-type {\n",
       "        vertical-align: middle;\n",
       "    }\n",
       "\n",
       "    .dataframe tbody tr th {\n",
       "        vertical-align: top;\n",
       "    }\n",
       "\n",
       "    .dataframe thead th {\n",
       "        text-align: right;\n",
       "    }\n",
       "</style>\n",
       "<table border=\"1\" class=\"dataframe\">\n",
       "  <thead>\n",
       "    <tr style=\"text-align: right;\">\n",
       "      <th></th>\n",
       "      <th>id</th>\n",
       "      <th>book</th>\n",
       "      <th>book_num</th>\n",
       "      <th>chapter</th>\n",
       "      <th>chapter_num</th>\n",
       "      <th>character</th>\n",
       "      <th>full_text</th>\n",
       "      <th>character_words</th>\n",
       "      <th>writer</th>\n",
       "      <th>director</th>\n",
       "      <th>imdb_rating</th>\n",
       "    </tr>\n",
       "  </thead>\n",
       "  <tbody>\n",
       "    <tr>\n",
       "      <th>4460</th>\n",
       "      <td>4460</td>\n",
       "      <td>Water</td>\n",
       "      <td>1</td>\n",
       "      <td>The Siege of the North, Part 2</td>\n",
       "      <td>20</td>\n",
       "      <td>Scene Description</td>\n",
       "      <td>The episode opens to the Northern Water Tribe ...</td>\n",
       "      <td>NaN</td>\n",
       "      <td>Aaron Ehasz</td>\n",
       "      <td>Dave Filoni</td>\n",
       "      <td>NaN</td>\n",
       "    </tr>\n",
       "    <tr>\n",
       "      <th>4620</th>\n",
       "      <td>4620</td>\n",
       "      <td>Water</td>\n",
       "      <td>1</td>\n",
       "      <td>The Siege of the North, Part 2</td>\n",
       "      <td>20</td>\n",
       "      <td>Scene Description</td>\n",
       "      <td>Fades to credits.</td>\n",
       "      <td>NaN</td>\n",
       "      <td>Aaron Ehasz</td>\n",
       "      <td>Dave Filoni</td>\n",
       "      <td>NaN</td>\n",
       "    </tr>\n",
       "  </tbody>\n",
       "</table>\n",
       "</div>"
      ],
      "text/plain": [
       "        id   book  book_num                         chapter  chapter_num  \\\n",
       "4460  4460  Water         1  The Siege of the North, Part 2           20   \n",
       "4620  4620  Water         1  The Siege of the North, Part 2           20   \n",
       "\n",
       "              character                                          full_text  \\\n",
       "4460  Scene Description  The episode opens to the Northern Water Tribe ...   \n",
       "4620  Scene Description                                  Fades to credits.   \n",
       "\n",
       "     character_words       writer     director  imdb_rating  \n",
       "4460             NaN  Aaron Ehasz  Dave Filoni          NaN  \n",
       "4620             NaN  Aaron Ehasz  Dave Filoni          NaN  "
      ]
     },
     "execution_count": 12,
     "metadata": {},
     "output_type": "execute_result"
    }
   ],
   "source": [
    "# The first and the last rows with the NaN imdb_rating\n",
    "avatar[avatar['imdb_rating'].isnull()].iloc[[0, -1]]"
   ]
  },
  {
   "cell_type": "code",
   "execution_count": 13,
   "metadata": {},
   "outputs": [
    {
     "data": {
      "text/html": [
       "<div>\n",
       "<style scoped>\n",
       "    .dataframe tbody tr th:only-of-type {\n",
       "        vertical-align: middle;\n",
       "    }\n",
       "\n",
       "    .dataframe tbody tr th {\n",
       "        vertical-align: top;\n",
       "    }\n",
       "\n",
       "    .dataframe thead th {\n",
       "        text-align: right;\n",
       "    }\n",
       "</style>\n",
       "<table border=\"1\" class=\"dataframe\">\n",
       "  <thead>\n",
       "    <tr style=\"text-align: right;\">\n",
       "      <th></th>\n",
       "      <th>book</th>\n",
       "      <th>director</th>\n",
       "      <th>imdb_rating</th>\n",
       "      <th>book_chapt</th>\n",
       "      <th>true_chapt</th>\n",
       "      <th>series_rating</th>\n",
       "    </tr>\n",
       "  </thead>\n",
       "  <tbody>\n",
       "    <tr>\n",
       "      <th>20</th>\n",
       "      <td>Water</td>\n",
       "      <td>Dave Filoni</td>\n",
       "      <td>9.7</td>\n",
       "      <td>20</td>\n",
       "      <td>19</td>\n",
       "      <td>8.336991</td>\n",
       "    </tr>\n",
       "  </tbody>\n",
       "</table>\n",
       "</div>"
      ],
      "text/plain": [
       "     book     director  imdb_rating  book_chapt  true_chapt  series_rating\n",
       "20  Water  Dave Filoni          9.7          20          19       8.336991"
      ]
     },
     "execution_count": 13,
     "metadata": {},
     "output_type": "execute_result"
    }
   ],
   "source": [
    "# Info about the 20th episode in the \"Data\" table\n",
    "data[data['book_chapt'] == 20]"
   ]
  },
  {
   "cell_type": "markdown",
   "metadata": {},
   "source": [
    "Some of the values (161) in the \"imdb_rating\" column of the \"Avatar\" table were actually missed. All of them are connected to the 20th episode. But there is a correct rating value for this episode in the \"Data\" table. Therefore, we will mainly use this table to analyze ratings"
   ]
  },
  {
   "cell_type": "code",
   "execution_count": 14,
   "metadata": {},
   "outputs": [
    {
     "data": {
      "text/plain": [
       "61"
      ]
     },
     "execution_count": 14,
     "metadata": {},
     "output_type": "execute_result"
    }
   ],
   "source": [
    "# total number of episodes \n",
    "data['book_chapt'].count()"
   ]
  },
  {
   "cell_type": "code",
   "execution_count": 15,
   "metadata": {},
   "outputs": [
    {
     "data": {
      "text/html": [
       "<div>\n",
       "<style scoped>\n",
       "    .dataframe tbody tr th:only-of-type {\n",
       "        vertical-align: middle;\n",
       "    }\n",
       "\n",
       "    .dataframe tbody tr th {\n",
       "        vertical-align: top;\n",
       "    }\n",
       "\n",
       "    .dataframe thead th {\n",
       "        text-align: right;\n",
       "    }\n",
       "</style>\n",
       "<table border=\"1\" class=\"dataframe\">\n",
       "  <thead>\n",
       "    <tr style=\"text-align: right;\">\n",
       "      <th></th>\n",
       "      <th>book</th>\n",
       "      <th>episodes</th>\n",
       "    </tr>\n",
       "  </thead>\n",
       "  <tbody>\n",
       "    <tr>\n",
       "      <th>0</th>\n",
       "      <td>Water</td>\n",
       "      <td>20</td>\n",
       "    </tr>\n",
       "    <tr>\n",
       "      <th>1</th>\n",
       "      <td>Earth</td>\n",
       "      <td>20</td>\n",
       "    </tr>\n",
       "    <tr>\n",
       "      <th>2</th>\n",
       "      <td>Fire</td>\n",
       "      <td>21</td>\n",
       "    </tr>\n",
       "  </tbody>\n",
       "</table>\n",
       "</div>"
      ],
      "text/plain": [
       "    book  episodes\n",
       "0  Water        20\n",
       "1  Earth        20\n",
       "2   Fire        21"
      ]
     },
     "execution_count": 15,
     "metadata": {},
     "output_type": "execute_result"
    }
   ],
   "source": [
    "# number of episodes in each book sorted in chronological order\n",
    "episodes_cnt = engine.execute(\"\"\"\n",
    "                              SELECT book, COUNT(1) AS episodes\n",
    "                              FROM data\n",
    "                              GROUP BY book\n",
    "                              ORDER BY book_chapt\n",
    "                              \"\"\")\n",
    "episodes_cnt_df = pd.DataFrame(episodes_cnt.fetchall())\n",
    "episodes_cnt_df.columns = episodes_cnt.keys()\n",
    "\n",
    "episodes_cnt_df"
   ]
  },
  {
   "cell_type": "markdown",
   "metadata": {},
   "source": [
    "<h2 align=\"center\"> IMDb Ratings </h2> "
   ]
  },
  {
   "cell_type": "code",
   "execution_count": 16,
   "metadata": {},
   "outputs": [],
   "source": [
    "sns.set_theme(style=\"darkgrid\")"
   ]
  },
  {
   "cell_type": "markdown",
   "metadata": {},
   "source": [
    "<h3 align='center'> Description of IMDb Ratings data </h3>"
   ]
  },
  {
   "cell_type": "code",
   "execution_count": 17,
   "metadata": {},
   "outputs": [
    {
     "data": {
      "image/png": "[encoded data removed]",
      "text/plain": [
       "<Figure size 432x288 with 1 Axes>"
      ]
     },
     "metadata": {},
     "output_type": "display_data"
    },
    {
     "data": {
      "text/plain": [
       "count    61.000000\n",
       "mean      8.683607\n",
       "std       0.598660\n",
       "min       7.100000\n",
       "25%       8.200000\n",
       "50%       8.700000\n",
       "75%       9.100000\n",
       "max       9.800000\n",
       "Name: imdb_rating, dtype: float64"
      ]
     },
     "execution_count": 17,
     "metadata": {},
     "output_type": "execute_result"
    }
   ],
   "source": [
    "sns.histplot(data['imdb_rating'], kde=True, stat=\"density\")\n",
    "plt.title('Ratings Distribution')\n",
    "plt.xlabel('Rating')\n",
    "plt.xticks(range(0, 11))\n",
    "\n",
    "plt.show()\n",
    "\n",
    "data['imdb_rating'].describe()"
   ]
  },
  {
   "cell_type": "markdown",
   "metadata": {},
   "source": [
    "We can see that most of the TV show episodes have very high IMDb Ratings. <br>\n",
    "Minimum rating value is 7.1 and the mean is 8.68. <br>\n",
    "Half of the episodes received a rating of more than 8.7 and a quarter received more than 9.1. <br>\n",
    "These are extremely good results and they show the love of viewers for the TV show"
   ]
  },
  {
   "cell_type": "markdown",
   "metadata": {},
   "source": [
    "<h3 align='center'> Books and Chapters Ratings </h3>"
   ]
  },
  {
   "cell_type": "code",
   "execution_count": 31,
   "metadata": {},
   "outputs": [
    {
     "data": {
      "image/png": "[encoded data removed]",
      "text/plain": [
       "<Figure size 432x288 with 1 Axes>"
      ]
     },
     "metadata": {},
     "output_type": "display_data"
    }
   ],
   "source": [
    "sns.lineplot(x='book_chapt', y='imdb_rating', hue='book', data=data,\n",
    "             palette=['#45b5c3', '#49b760', '#c98232'])\n",
    "\n",
    "plt.title('Chapter Ratings')\n",
    "plt.xlabel('Chapter')\n",
    "plt.ylabel('Rating')\n",
    "plt.yticks(range(0, 11))\n",
    "\n",
    "plt.show()"
   ]
  },
  {
   "cell_type": "code",
   "execution_count": 19,
   "metadata": {},
   "outputs": [
    {
     "data": {
      "image/png": "[encoded data removed]",
      "text/plain": [
       "<Figure size 432x288 with 1 Axes>"
      ]
     },
     "metadata": {},
     "output_type": "display_data"
    },
    {
     "name": "stdout",
     "output_type": "stream",
     "text": [
      "Ttest_indResult(statistic=9.827235525153414, pvalue=4.4353484124194516e-17)\n"
     ]
    }
   ],
   "source": [
    "sns.regplot(x='book_chapt', y='imdb_rating', data=data)\n",
    "plt.title('Chapter and rating correlation')\n",
    "plt.xlabel('Chapter')\n",
    "plt.ylabel('Rating')\n",
    "plt.yticks(range(0, 11))\n",
    "\n",
    "plt.show()\n",
    "print(stats.ttest_ind(data['book_chapt'], data['imdb_rating']))"
   ]
  },
  {
   "cell_type": "code",
   "execution_count": 27,
   "metadata": {},
   "outputs": [
    {
     "data": {
      "image/png": "[encoded data removed]",
      "text/plain": [
       "<Figure size 432x288 with 1 Axes>"
      ]
     },
     "metadata": {},
     "output_type": "display_data"
    }
   ],
   "source": [
    "fig, ax = plt.subplots()\n",
    "\n",
    "graph = sns.barplot(ax=ax, x='book', y='series_rating', data=data,\n",
    "            palette=['#83bbca', '#9bae58', '#d36336'])\n",
    "plt.title('Book Ratings')\n",
    "plt.xlabel('Book')\n",
    "plt.ylabel('Rating')\n",
    "plt.yticks(range(0, 11))\n",
    "\n",
    "for p in graph.patches:\n",
    "    graph.annotate('{:.2f}'.format(p.get_height()), (p.get_x()+0.4, p.get_height()),\n",
    "                    ha='center', va='bottom')\n",
    "\n",
    "plt.show()"
   ]
  },
  {
   "cell_type": "markdown",
   "metadata": {},
   "source": [
    "On the graph \"Chapter and rating correlation\" we can see a positive correlation between the episode number and its rating, so we can assume that the audience's opinion of the TV show has improved over time: the viewers enjoyed the show more and more as they continued watching it. <br>\n",
    "Avatar's ratings increased from season to season and the final season had the highest rating of all. <br>\n",
    "The story of Avatar came to a clear end, it had an epic conclusion and gave the audience an emotional attachment to the TV show as a real legend or saga. It may be the main factor in its popularity and the undying interest in it throughout all seasons"
   ]
  },
  {
   "cell_type": "markdown",
   "metadata": {},
   "source": [
    "<h2 align='center'> Directors </h2>"
   ]
  },
  {
   "cell_type": "code",
   "execution_count": 50,
   "metadata": {},
   "outputs": [
    {
     "data": {
      "image/png": "[encoded data removed]",
      "text/plain": [
       "<Figure size 576x360 with 1 Axes>"
      ]
     },
     "metadata": {},
     "output_type": "display_data"
    }
   ],
   "source": [
    "# Number of directed episodes\n",
    "\n",
    "dir_episodes_cnt = engine.execute(\"\"\"\n",
    "                                  SELECT director, COUNT(1) AS episodes\n",
    "                                  FROM data\n",
    "                                  GROUP BY director\n",
    "                                  ORDER BY episodes DESC\n",
    "                                  \"\"\")\n",
    "dir_episodes_cnt_df = pd.DataFrame(dir_episodes_cnt.fetchall())\n",
    "dir_episodes_cnt_df.columns = dir_episodes_cnt.keys()\n",
    "\n",
    "plt.figure(figsize=(8,5))\n",
    "\n",
    "plt.pie(dir_episodes_cnt_df['episodes'], labels=None, pctdistance=1.25,\n",
    "        autopct=lambda p: '{:.2f}%({:.0f})'.format(p, (p/100)*dir_episodes_cnt_df['episodes'].sum()))\n",
    "plt.title(\"Number of episodes\")\n",
    "plt.legend(title='Director', loc=\"center right\", labels=dir_episodes_cnt_df['director'], \n",
    "           bbox_to_anchor=(1.3, 0, 0.5, 1))\n",
    "\n",
    "plt.show()"
   ]
  },
  {
   "cell_type": "code",
   "execution_count": 55,
   "metadata": {},
   "outputs": [
    {
     "data": {
      "image/png": "[encoded data removed]",
      "text/plain": [
       "<Figure size 360x360 with 1 Axes>"
      ]
     },
     "metadata": {},
     "output_type": "display_data"
    },
    {
     "data": {
      "image/png": "[encoded data removed]",
      "text/plain": [
       "<Figure size 864x216 with 2 Axes>"
      ]
     },
     "metadata": {},
     "output_type": "display_data"
    }
   ],
   "source": [
    "# Ratings of the directed episodes\n",
    "\n",
    "sns.catplot(x='imdb_rating', y='director', data=data)\n",
    "plt.title('Ratings of the directed episodes')\n",
    "plt.xlabel('Ratings')\n",
    "plt.ylabel('Director')\n",
    "plt.xticks(range(0, 11))\n",
    "\n",
    "plt.show()\n",
    "\n",
    "fig, ax = plt.subplots(1, 2, figsize=(12,3))\n",
    "\n",
    "avg_rating = engine.execute(\"\"\"\n",
    "                            SELECT director, AVG(imdb_rating) AS rating\n",
    "                            FROM data\n",
    "                            GROUP BY director\n",
    "                            ORDER BY rating DESC\n",
    "                            \"\"\")\n",
    "avg_rating_df = pd.DataFrame(avg_rating.fetchall())\n",
    "avg_rating_df.columns = avg_rating.keys()\n",
    "\n",
    "max_rating = engine.execute(\"\"\"\n",
    "                            SELECT director, MAX(imdb_rating) AS rating\n",
    "                            FROM data\n",
    "                            GROUP BY director\n",
    "                            ORDER BY rating DESC\n",
    "                            \"\"\")\n",
    "max_rating_df = pd.DataFrame(max_rating.fetchall())\n",
    "max_rating_df.columns = max_rating.keys()\n",
    "\n",
    "sns.barplot(ax=ax[0], x='rating', y='director', data=avg_rating_df,\n",
    "           palette='viridis')\n",
    "ax[0].set_xlabel('Average rating')\n",
    "ax[0].set_ylabel('Director')\n",
    "ax[0].set_title('Average ratings of the directed episodes')\n",
    "\n",
    "sns.barplot(ax=ax[1], x='rating', y='director', data=max_rating_df,\n",
    "           palette='rocket')\n",
    "ax[1].set_xlabel('Maximum rating')\n",
    "ax[1].set_ylabel('Director')\n",
    "ax[1].set_title('Maximum ratings of the directed episodes')\n",
    "\n",
    "fig.tight_layout()\n",
    "\n",
    "plt.show()"
   ]
  },
  {
   "cell_type": "markdown",
   "metadata": {},
   "source": [
    "As we can see, Giancarlo Volpe has directed the most number of episodes, but the average rating of his episodes is not the best. This is partly due to the fact that the episode with the lowest rating belongs to him. <br>\n",
    "Michael Dante DiMartino has directed only one episode, and this episode received quite high rating. <br>\n",
    "The episode with the highest rating of all belongs to Joaquim Dos Santos. The average rating of all his episodes is also high: he ranks second (after Michael Dante DiMartino)."
   ]
  },
  {
   "cell_type": "code",
   "execution_count": null,
   "metadata": {},
   "outputs": [],
   "source": []
  }
 ],
 "metadata": {
  "kernelspec": {
   "display_name": "Python 3",
   "language": "python",
   "name": "python3"
  },
  "language_info": {
   "codemirror_mode": {
    "name": "ipython",
    "version": 3
   },
   "file_extension": ".py",
   "mimetype": "text/x-python",
   "name": "python",
   "nbconvert_exporter": "python",
   "pygments_lexer": "ipython3",
   "version": "3.8.5"
  }
 },
 "nbformat": 4,
 "nbformat_minor": 4
}
