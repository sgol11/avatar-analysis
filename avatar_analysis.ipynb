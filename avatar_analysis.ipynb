{
 "cells": [
  {
   "cell_type": "markdown",
   "metadata": {},
   "source": [
    "![title](https://i.imgur.com/XXrmxpp.jpeg)"
   ]
  },
  {
   "cell_type": "markdown",
   "metadata": {},
   "source": [
    "> *Avatar: The Last Airbender*, known as *Avatar: The Legend of Aang* in some regions, is an American animated television series produced by Nickelodeon Animation Studios. It aired on Nickelodeon for three seasons, from February 2005 to July 2008.\n",
    "> <br>\n",
    ">\n",
    "> Avatar is set in an Asiatic-like world in which certain people can manipulate one of the four elements — water, earth, fire, or air—with telekinetic variants of the Chinese martial arts known as \"bending\". The only individual who can bend all four elements, the \"Avatar\", is responsible for maintaining balance between the world's four nations, and serves as the bridge between the physical world and the spirit world. \n",
    "> <br>\n",
    ">\n",
    "> @Wikipedia\n",
    "\n",
    "![](https://64.media.tumblr.com/b1dc757e072b20026108c8cfcd640c85/tumblr_nvxnup0gzN1uic2oco1_640.jpg)"
   ]
  },
  {
   "cell_type": "markdown",
   "metadata": {},
   "source": [
    "*Avatar: The Last Airbender* is as popular today as it was before. It is still remaining in the top 10 [TV shows](https://www.imdb.com/chart/toptv/?ref_=nv_tvv_250) on the IMDb service and it is one of the most highly rated [animated TV shows](https://www.imdb.com/search/title/?genres=animation&sort=user_rating,desc&title_type=tv_series,mini_series&num_votes=5000,&pf_rd_m=A2FGELUUNOQJNL&pf_rd_p=f85d9bf4-1542-48d1-a7f9-48ac82dd85e7&pf_rd_r=AG9MZFF3D62SB6J5RX24&pf_rd_s=right-6&pf_rd_t=15506&pf_rd_i=toptv&ref_=chttvtp_gnr_3) as of this writing. \n",
    "\n",
    "\n",
    "\n"
   ]
  },
  {
   "cell_type": "code",
   "execution_count": 57,
   "metadata": {},
   "outputs": [],
   "source": [
    "import pandas as pd\n",
    "import numpy as np\n",
    "from scipy import stats\n",
    "\n",
    "import matplotlib.pyplot as plt\n",
    "import seaborn as sns\n",
    "\n",
    "from sqlalchemy import create_engine\n",
    "\n",
    "import re\n",
    "from IPython.display import display\n",
    "\n",
    "from wordcloud import WordCloud, STOPWORDS"
   ]
  },
  {
   "cell_type": "markdown",
   "metadata": {},
   "source": [
    "Dataset is taken from [Kaggle](https://www.kaggle.com/ekrembayar/avatar-the-last-air-bender). <br><br>\n",
    "There are 4 CSV files in the dataset: \n",
    "- avatar.csv\n",
    "- avatar_data.csv\n",
    "- scenes.csv\n",
    "- series_names.csv"
   ]
  },
  {
   "cell_type": "code",
   "execution_count": 2,
   "metadata": {},
   "outputs": [],
   "source": [
    "# Reading data from .csv files\n",
    "\n",
    "avatar = pd.read_csv('tables/avatar.csv', encoding = \"ISO-8859-1\", index_col=0)\n",
    "data = pd.read_csv('tables/avatar_data.csv', index_col=0)\n",
    "scenes = pd.read_csv('tables/scenes.csv', encoding = \"ISO-8859-1\", index_col=0)\n",
    "series = pd.read_csv('tables/series_names.csv', index_col=0)"
   ]
  },
  {
   "cell_type": "code",
   "execution_count": 3,
   "metadata": {},
   "outputs": [],
   "source": [
    "# Writing records stored in DataFrames to a SQL database\n",
    "# for further working with the query language\n",
    "\n",
    "engine = create_engine('sqlite://', echo=False)\n",
    "\n",
    "avatar.to_sql('avatar', con=engine, index='False')\n",
    "data.to_sql('data', con=engine, index='False')\n",
    "scenes.to_sql('scenes', con=engine, index='False')\n",
    "series.to_sql('series', con=engine, index='False')"
   ]
  },
  {
   "cell_type": "markdown",
   "metadata": {},
   "source": [
    "<h2 align=\"center\"> Preliminary Data Analysis </h2> "
   ]
  },
  {
   "cell_type": "markdown",
   "metadata": {},
   "source": [
    "First of all, let's look at our data. We need to analyze the content of the tables to understand what we are going to work with and find out if there are any missing values "
   ]
  },
  {
   "cell_type": "code",
   "execution_count": 4,
   "metadata": {},
   "outputs": [
    {
     "name": "stdout",
     "output_type": "stream",
     "text": [
      "Avatar\n",
      "id | book | book_num | chapter | chapter_num | character | full_text | character_words | writer | director | imdb_rating | \n",
      "\n",
      "Data\n",
      "book | director | imdb_rating | book_chapt | true_chapt | series_rating | \n",
      "\n",
      "Scenes\n",
      "id | scene_description | \n",
      "\n",
      "Series\n",
      "book | series_rating | halfway | "
     ]
    }
   ],
   "source": [
    "# names of table columns\n",
    "\n",
    "def print_table_columns(table_name, table_df):\n",
    "    print(table_name)\n",
    "    for table in table_df.columns.tolist():\n",
    "        print(table, end=' | ')\n",
    "        \n",
    "print_table_columns('Avatar', avatar)\n",
    "print_table_columns('\\n\\nData', data)\n",
    "print_table_columns('\\n\\nScenes', scenes)\n",
    "print_table_columns('\\n\\nSeries', series)"
   ]
  },
  {
   "cell_type": "code",
   "execution_count": 5,
   "metadata": {},
   "outputs": [
    {
     "data": {
      "text/html": [
       "<div>\n",
       "<style scoped>\n",
       "    .dataframe tbody tr th:only-of-type {\n",
       "        vertical-align: middle;\n",
       "    }\n",
       "\n",
       "    .dataframe tbody tr th {\n",
       "        vertical-align: top;\n",
       "    }\n",
       "\n",
       "    .dataframe thead th {\n",
       "        text-align: right;\n",
       "    }\n",
       "</style>\n",
       "<table border=\"1\" class=\"dataframe\">\n",
       "  <thead>\n",
       "    <tr style=\"text-align: right;\">\n",
       "      <th></th>\n",
       "      <th>id</th>\n",
       "      <th>book</th>\n",
       "      <th>book_num</th>\n",
       "      <th>chapter</th>\n",
       "      <th>chapter_num</th>\n",
       "      <th>character</th>\n",
       "      <th>full_text</th>\n",
       "      <th>character_words</th>\n",
       "      <th>writer</th>\n",
       "      <th>director</th>\n",
       "      <th>imdb_rating</th>\n",
       "    </tr>\n",
       "  </thead>\n",
       "  <tbody>\n",
       "    <tr>\n",
       "      <th>1</th>\n",
       "      <td>1</td>\n",
       "      <td>Water</td>\n",
       "      <td>1</td>\n",
       "      <td>The Boy in the Iceberg</td>\n",
       "      <td>1</td>\n",
       "      <td>Katara</td>\n",
       "      <td>Water. Earth. Fire. Air. My grandmother used t...</td>\n",
       "      <td>Water. Earth. Fire. Air. My grandmother used t...</td>\n",
       "      <td>&lt;U+200E&gt;Michael Dante DiMartino, Bryan Konietz...</td>\n",
       "      <td>Dave Filoni</td>\n",
       "      <td>8.1</td>\n",
       "    </tr>\n",
       "    <tr>\n",
       "      <th>2</th>\n",
       "      <td>2</td>\n",
       "      <td>Water</td>\n",
       "      <td>1</td>\n",
       "      <td>The Boy in the Iceberg</td>\n",
       "      <td>1</td>\n",
       "      <td>Scene Description</td>\n",
       "      <td>As the title card fades, the scene opens onto ...</td>\n",
       "      <td>NaN</td>\n",
       "      <td>&lt;U+200E&gt;Michael Dante DiMartino, Bryan Konietz...</td>\n",
       "      <td>Dave Filoni</td>\n",
       "      <td>8.1</td>\n",
       "    </tr>\n",
       "    <tr>\n",
       "      <th>3</th>\n",
       "      <td>3</td>\n",
       "      <td>Water</td>\n",
       "      <td>1</td>\n",
       "      <td>The Boy in the Iceberg</td>\n",
       "      <td>1</td>\n",
       "      <td>Sokka</td>\n",
       "      <td>It's not getting away from me this time. [Clos...</td>\n",
       "      <td>It's not getting away from me this time.  Watc...</td>\n",
       "      <td>&lt;U+200E&gt;Michael Dante DiMartino, Bryan Konietz...</td>\n",
       "      <td>Dave Filoni</td>\n",
       "      <td>8.1</td>\n",
       "    </tr>\n",
       "  </tbody>\n",
       "</table>\n",
       "</div>"
      ],
      "text/plain": [
       "   id   book  book_num                 chapter  chapter_num  \\\n",
       "1   1  Water         1  The Boy in the Iceberg            1   \n",
       "2   2  Water         1  The Boy in the Iceberg            1   \n",
       "3   3  Water         1  The Boy in the Iceberg            1   \n",
       "\n",
       "           character                                          full_text  \\\n",
       "1             Katara  Water. Earth. Fire. Air. My grandmother used t...   \n",
       "2  Scene Description  As the title card fades, the scene opens onto ...   \n",
       "3              Sokka  It's not getting away from me this time. [Clos...   \n",
       "\n",
       "                                     character_words  \\\n",
       "1  Water. Earth. Fire. Air. My grandmother used t...   \n",
       "2                                                NaN   \n",
       "3  It's not getting away from me this time.  Watc...   \n",
       "\n",
       "                                              writer     director  imdb_rating  \n",
       "1  <U+200E>Michael Dante DiMartino, Bryan Konietz...  Dave Filoni          8.1  \n",
       "2  <U+200E>Michael Dante DiMartino, Bryan Konietz...  Dave Filoni          8.1  \n",
       "3  <U+200E>Michael Dante DiMartino, Bryan Konietz...  Dave Filoni          8.1  "
      ]
     },
     "execution_count": 5,
     "metadata": {},
     "output_type": "execute_result"
    }
   ],
   "source": [
    "avatar.head(3)"
   ]
  },
  {
   "cell_type": "code",
   "execution_count": 6,
   "metadata": {},
   "outputs": [
    {
     "data": {
      "text/html": [
       "<div>\n",
       "<style scoped>\n",
       "    .dataframe tbody tr th:only-of-type {\n",
       "        vertical-align: middle;\n",
       "    }\n",
       "\n",
       "    .dataframe tbody tr th {\n",
       "        vertical-align: top;\n",
       "    }\n",
       "\n",
       "    .dataframe thead th {\n",
       "        text-align: right;\n",
       "    }\n",
       "</style>\n",
       "<table border=\"1\" class=\"dataframe\">\n",
       "  <thead>\n",
       "    <tr style=\"text-align: right;\">\n",
       "      <th></th>\n",
       "      <th>book</th>\n",
       "      <th>director</th>\n",
       "      <th>imdb_rating</th>\n",
       "      <th>book_chapt</th>\n",
       "      <th>true_chapt</th>\n",
       "      <th>series_rating</th>\n",
       "    </tr>\n",
       "  </thead>\n",
       "  <tbody>\n",
       "    <tr>\n",
       "      <th>1</th>\n",
       "      <td>Water</td>\n",
       "      <td>Dave Filoni</td>\n",
       "      <td>8.1</td>\n",
       "      <td>1</td>\n",
       "      <td>0</td>\n",
       "      <td>8.336991</td>\n",
       "    </tr>\n",
       "    <tr>\n",
       "      <th>2</th>\n",
       "      <td>Water</td>\n",
       "      <td>Dave Filoni</td>\n",
       "      <td>8.3</td>\n",
       "      <td>2</td>\n",
       "      <td>1</td>\n",
       "      <td>8.336991</td>\n",
       "    </tr>\n",
       "    <tr>\n",
       "      <th>3</th>\n",
       "      <td>Water</td>\n",
       "      <td>Lauren MacMullan</td>\n",
       "      <td>8.5</td>\n",
       "      <td>3</td>\n",
       "      <td>2</td>\n",
       "      <td>8.336991</td>\n",
       "    </tr>\n",
       "  </tbody>\n",
       "</table>\n",
       "</div>"
      ],
      "text/plain": [
       "    book          director  imdb_rating  book_chapt  true_chapt  series_rating\n",
       "1  Water       Dave Filoni          8.1           1           0       8.336991\n",
       "2  Water       Dave Filoni          8.3           2           1       8.336991\n",
       "3  Water  Lauren MacMullan          8.5           3           2       8.336991"
      ]
     },
     "execution_count": 6,
     "metadata": {},
     "output_type": "execute_result"
    }
   ],
   "source": [
    "data.head(3)"
   ]
  },
  {
   "cell_type": "code",
   "execution_count": 7,
   "metadata": {},
   "outputs": [
    {
     "data": {
      "text/html": [
       "<div>\n",
       "<style scoped>\n",
       "    .dataframe tbody tr th:only-of-type {\n",
       "        vertical-align: middle;\n",
       "    }\n",
       "\n",
       "    .dataframe tbody tr th {\n",
       "        vertical-align: top;\n",
       "    }\n",
       "\n",
       "    .dataframe thead th {\n",
       "        text-align: right;\n",
       "    }\n",
       "</style>\n",
       "<table border=\"1\" class=\"dataframe\">\n",
       "  <thead>\n",
       "    <tr style=\"text-align: right;\">\n",
       "      <th></th>\n",
       "      <th>id</th>\n",
       "      <th>scene_description</th>\n",
       "    </tr>\n",
       "  </thead>\n",
       "  <tbody>\n",
       "    <tr>\n",
       "      <th>1</th>\n",
       "      <td>3</td>\n",
       "      <td>[Close-up of the boy as he grins confidently o...</td>\n",
       "    </tr>\n",
       "    <tr>\n",
       "      <th>2</th>\n",
       "      <td>5</td>\n",
       "      <td>[Happily surprised.]</td>\n",
       "    </tr>\n",
       "    <tr>\n",
       "      <th>3</th>\n",
       "      <td>6</td>\n",
       "      <td>[Close-up of Sokka; whispering.]</td>\n",
       "    </tr>\n",
       "  </tbody>\n",
       "</table>\n",
       "</div>"
      ],
      "text/plain": [
       "   id                                  scene_description\n",
       "1   3  [Close-up of the boy as he grins confidently o...\n",
       "2   5                               [Happily surprised.]\n",
       "3   6                   [Close-up of Sokka; whispering.]"
      ]
     },
     "execution_count": 7,
     "metadata": {},
     "output_type": "execute_result"
    }
   ],
   "source": [
    "scenes.head(3)"
   ]
  },
  {
   "cell_type": "code",
   "execution_count": 8,
   "metadata": {},
   "outputs": [
    {
     "data": {
      "text/html": [
       "<div>\n",
       "<style scoped>\n",
       "    .dataframe tbody tr th:only-of-type {\n",
       "        vertical-align: middle;\n",
       "    }\n",
       "\n",
       "    .dataframe tbody tr th {\n",
       "        vertical-align: top;\n",
       "    }\n",
       "\n",
       "    .dataframe thead th {\n",
       "        text-align: right;\n",
       "    }\n",
       "</style>\n",
       "<table border=\"1\" class=\"dataframe\">\n",
       "  <thead>\n",
       "    <tr style=\"text-align: right;\">\n",
       "      <th></th>\n",
       "      <th>book</th>\n",
       "      <th>series_rating</th>\n",
       "      <th>halfway</th>\n",
       "    </tr>\n",
       "  </thead>\n",
       "  <tbody>\n",
       "    <tr>\n",
       "      <th>1</th>\n",
       "      <td>Earth</td>\n",
       "      <td>8.730077</td>\n",
       "      <td>31.5</td>\n",
       "    </tr>\n",
       "    <tr>\n",
       "      <th>2</th>\n",
       "      <td>Fire</td>\n",
       "      <td>8.862371</td>\n",
       "      <td>53.0</td>\n",
       "    </tr>\n",
       "    <tr>\n",
       "      <th>3</th>\n",
       "      <td>Water</td>\n",
       "      <td>8.336991</td>\n",
       "      <td>10.5</td>\n",
       "    </tr>\n",
       "  </tbody>\n",
       "</table>\n",
       "</div>"
      ],
      "text/plain": [
       "    book  series_rating  halfway\n",
       "1  Earth       8.730077     31.5\n",
       "2   Fire       8.862371     53.0\n",
       "3  Water       8.336991     10.5"
      ]
     },
     "execution_count": 8,
     "metadata": {},
     "output_type": "execute_result"
    }
   ],
   "source": [
    "series.head(3)"
   ]
  },
  {
   "cell_type": "code",
   "execution_count": 9,
   "metadata": {},
   "outputs": [
    {
     "name": "stdout",
     "output_type": "stream",
     "text": [
      "['character_words', 'imdb_rating']\n",
      "[]\n",
      "[]\n",
      "[]\n"
     ]
    }
   ],
   "source": [
    "# Columns with missing values\n",
    "\n",
    "print(avatar.columns[avatar.isna().any()].tolist())\n",
    "print(data.columns[data.isna().any()].tolist())\n",
    "print(scenes.columns[scenes.isna().any()].tolist())\n",
    "print(series.columns[series.isna().any()].tolist())"
   ]
  },
  {
   "cell_type": "markdown",
   "metadata": {},
   "source": [
    "There are only two columns with NaN values in the dataset. It is normal for the \"character_words\" column to have no values in some cases, since the characters may not say anything in certain scenes. But it is strange that there are missing values in the \"imdb_rating\" column of the \"Avatar\" table. <br>\n",
    "Let's see at these missing values and check if it is all right with the data in the column with the same name of another table"
   ]
  },
  {
   "cell_type": "code",
   "execution_count": 10,
   "metadata": {},
   "outputs": [
    {
     "name": "stdout",
     "output_type": "stream",
     "text": [
      "Missed:  161\n"
     ]
    },
    {
     "data": {
      "text/html": [
       "<div>\n",
       "<style scoped>\n",
       "    .dataframe tbody tr th:only-of-type {\n",
       "        vertical-align: middle;\n",
       "    }\n",
       "\n",
       "    .dataframe tbody tr th {\n",
       "        vertical-align: top;\n",
       "    }\n",
       "\n",
       "    .dataframe thead th {\n",
       "        text-align: right;\n",
       "    }\n",
       "</style>\n",
       "<table border=\"1\" class=\"dataframe\">\n",
       "  <thead>\n",
       "    <tr style=\"text-align: right;\">\n",
       "      <th></th>\n",
       "      <th>id</th>\n",
       "      <th>imdb_rating</th>\n",
       "    </tr>\n",
       "    <tr>\n",
       "      <th>chapter_num</th>\n",
       "      <th></th>\n",
       "      <th></th>\n",
       "    </tr>\n",
       "  </thead>\n",
       "  <tbody>\n",
       "    <tr>\n",
       "      <th>20</th>\n",
       "      <td>509</td>\n",
       "      <td>348</td>\n",
       "    </tr>\n",
       "  </tbody>\n",
       "</table>\n",
       "</div>"
      ],
      "text/plain": [
       "              id  imdb_rating\n",
       "chapter_num                  \n",
       "20           509          348"
      ]
     },
     "execution_count": 10,
     "metadata": {},
     "output_type": "execute_result"
    }
   ],
   "source": [
    "# Number of rows with missed values in the \"imdb_rating\" column\n",
    "\n",
    "df = avatar[['chapter_num', 'id', 'imdb_rating']].groupby(['chapter_num']).\\\n",
    "count().query('id != imdb_rating')\n",
    "\n",
    "print('Missed: ', int(df['id']) - int(df['imdb_rating']))\n",
    "df"
   ]
  },
  {
   "cell_type": "code",
   "execution_count": 11,
   "metadata": {},
   "outputs": [
    {
     "data": {
      "text/html": [
       "<div>\n",
       "<style scoped>\n",
       "    .dataframe tbody tr th:only-of-type {\n",
       "        vertical-align: middle;\n",
       "    }\n",
       "\n",
       "    .dataframe tbody tr th {\n",
       "        vertical-align: top;\n",
       "    }\n",
       "\n",
       "    .dataframe thead th {\n",
       "        text-align: right;\n",
       "    }\n",
       "</style>\n",
       "<table border=\"1\" class=\"dataframe\">\n",
       "  <thead>\n",
       "    <tr style=\"text-align: right;\">\n",
       "      <th></th>\n",
       "      <th>id</th>\n",
       "      <th>book</th>\n",
       "      <th>book_num</th>\n",
       "      <th>chapter</th>\n",
       "      <th>chapter_num</th>\n",
       "      <th>character</th>\n",
       "      <th>full_text</th>\n",
       "      <th>character_words</th>\n",
       "      <th>writer</th>\n",
       "      <th>director</th>\n",
       "      <th>imdb_rating</th>\n",
       "    </tr>\n",
       "  </thead>\n",
       "  <tbody>\n",
       "    <tr>\n",
       "      <th>4460</th>\n",
       "      <td>4460</td>\n",
       "      <td>Water</td>\n",
       "      <td>1</td>\n",
       "      <td>The Siege of the North, Part 2</td>\n",
       "      <td>20</td>\n",
       "      <td>Scene Description</td>\n",
       "      <td>The episode opens to the Northern Water Tribe ...</td>\n",
       "      <td>NaN</td>\n",
       "      <td>Aaron Ehasz</td>\n",
       "      <td>Dave Filoni</td>\n",
       "      <td>NaN</td>\n",
       "    </tr>\n",
       "    <tr>\n",
       "      <th>4620</th>\n",
       "      <td>4620</td>\n",
       "      <td>Water</td>\n",
       "      <td>1</td>\n",
       "      <td>The Siege of the North, Part 2</td>\n",
       "      <td>20</td>\n",
       "      <td>Scene Description</td>\n",
       "      <td>Fades to credits.</td>\n",
       "      <td>NaN</td>\n",
       "      <td>Aaron Ehasz</td>\n",
       "      <td>Dave Filoni</td>\n",
       "      <td>NaN</td>\n",
       "    </tr>\n",
       "  </tbody>\n",
       "</table>\n",
       "</div>"
      ],
      "text/plain": [
       "        id   book  book_num                         chapter  chapter_num  \\\n",
       "4460  4460  Water         1  The Siege of the North, Part 2           20   \n",
       "4620  4620  Water         1  The Siege of the North, Part 2           20   \n",
       "\n",
       "              character                                          full_text  \\\n",
       "4460  Scene Description  The episode opens to the Northern Water Tribe ...   \n",
       "4620  Scene Description                                  Fades to credits.   \n",
       "\n",
       "     character_words       writer     director  imdb_rating  \n",
       "4460             NaN  Aaron Ehasz  Dave Filoni          NaN  \n",
       "4620             NaN  Aaron Ehasz  Dave Filoni          NaN  "
      ]
     },
     "execution_count": 11,
     "metadata": {},
     "output_type": "execute_result"
    }
   ],
   "source": [
    "# The first and the last rows with the NaN imdb_rating\n",
    "avatar[avatar['imdb_rating'].isnull()].iloc[[0, -1]]"
   ]
  },
  {
   "cell_type": "code",
   "execution_count": 12,
   "metadata": {},
   "outputs": [
    {
     "data": {
      "text/html": [
       "<div>\n",
       "<style scoped>\n",
       "    .dataframe tbody tr th:only-of-type {\n",
       "        vertical-align: middle;\n",
       "    }\n",
       "\n",
       "    .dataframe tbody tr th {\n",
       "        vertical-align: top;\n",
       "    }\n",
       "\n",
       "    .dataframe thead th {\n",
       "        text-align: right;\n",
       "    }\n",
       "</style>\n",
       "<table border=\"1\" class=\"dataframe\">\n",
       "  <thead>\n",
       "    <tr style=\"text-align: right;\">\n",
       "      <th></th>\n",
       "      <th>book</th>\n",
       "      <th>director</th>\n",
       "      <th>imdb_rating</th>\n",
       "      <th>book_chapt</th>\n",
       "      <th>true_chapt</th>\n",
       "      <th>series_rating</th>\n",
       "    </tr>\n",
       "  </thead>\n",
       "  <tbody>\n",
       "    <tr>\n",
       "      <th>20</th>\n",
       "      <td>Water</td>\n",
       "      <td>Dave Filoni</td>\n",
       "      <td>9.7</td>\n",
       "      <td>20</td>\n",
       "      <td>19</td>\n",
       "      <td>8.336991</td>\n",
       "    </tr>\n",
       "  </tbody>\n",
       "</table>\n",
       "</div>"
      ],
      "text/plain": [
       "     book     director  imdb_rating  book_chapt  true_chapt  series_rating\n",
       "20  Water  Dave Filoni          9.7          20          19       8.336991"
      ]
     },
     "execution_count": 12,
     "metadata": {},
     "output_type": "execute_result"
    }
   ],
   "source": [
    "# Info about the 20th episode in the \"Data\" table\n",
    "data[data['book_chapt'] == 20]"
   ]
  },
  {
   "cell_type": "markdown",
   "metadata": {},
   "source": [
    "Some of the values (161) in the \"imdb_rating\" column of the \"Avatar\" table were actually missed. All of them are connected to the 20th episode. But there is a correct rating value for this episode in the \"Data\" table. Therefore, we will mainly use this table to analyze ratings"
   ]
  },
  {
   "cell_type": "code",
   "execution_count": 13,
   "metadata": {},
   "outputs": [
    {
     "data": {
      "text/plain": [
       "61"
      ]
     },
     "execution_count": 13,
     "metadata": {},
     "output_type": "execute_result"
    }
   ],
   "source": [
    "# total number of episodes \n",
    "data['book_chapt'].count()"
   ]
  },
  {
   "cell_type": "code",
   "execution_count": 14,
   "metadata": {},
   "outputs": [
    {
     "data": {
      "text/html": [
       "<div>\n",
       "<style scoped>\n",
       "    .dataframe tbody tr th:only-of-type {\n",
       "        vertical-align: middle;\n",
       "    }\n",
       "\n",
       "    .dataframe tbody tr th {\n",
       "        vertical-align: top;\n",
       "    }\n",
       "\n",
       "    .dataframe thead th {\n",
       "        text-align: right;\n",
       "    }\n",
       "</style>\n",
       "<table border=\"1\" class=\"dataframe\">\n",
       "  <thead>\n",
       "    <tr style=\"text-align: right;\">\n",
       "      <th></th>\n",
       "      <th>book</th>\n",
       "      <th>episodes</th>\n",
       "    </tr>\n",
       "  </thead>\n",
       "  <tbody>\n",
       "    <tr>\n",
       "      <th>0</th>\n",
       "      <td>Water</td>\n",
       "      <td>20</td>\n",
       "    </tr>\n",
       "    <tr>\n",
       "      <th>1</th>\n",
       "      <td>Earth</td>\n",
       "      <td>20</td>\n",
       "    </tr>\n",
       "    <tr>\n",
       "      <th>2</th>\n",
       "      <td>Fire</td>\n",
       "      <td>21</td>\n",
       "    </tr>\n",
       "  </tbody>\n",
       "</table>\n",
       "</div>"
      ],
      "text/plain": [
       "    book  episodes\n",
       "0  Water        20\n",
       "1  Earth        20\n",
       "2   Fire        21"
      ]
     },
     "execution_count": 14,
     "metadata": {},
     "output_type": "execute_result"
    }
   ],
   "source": [
    "# number of episodes in each book sorted in chronological order\n",
    "episodes_cnt = engine.execute(\"\"\"\n",
    "                              SELECT book, COUNT(1) AS episodes\n",
    "                              FROM data\n",
    "                              GROUP BY book\n",
    "                              ORDER BY book_chapt\n",
    "                              \"\"\")\n",
    "episodes_cnt_df = pd.DataFrame(episodes_cnt.fetchall())\n",
    "episodes_cnt_df.columns = episodes_cnt.keys()\n",
    "\n",
    "episodes_cnt_df"
   ]
  },
  {
   "cell_type": "markdown",
   "metadata": {},
   "source": [
    "<h2 align=\"center\"> IMDb Ratings </h2> "
   ]
  },
  {
   "cell_type": "code",
   "execution_count": 15,
   "metadata": {},
   "outputs": [],
   "source": [
    "sns.set_theme(style=\"darkgrid\")"
   ]
  },
  {
   "cell_type": "markdown",
   "metadata": {},
   "source": [
    "<h3 align='center'> Description of IMDb Ratings data </h3>"
   ]
  },
  {
   "cell_type": "code",
   "execution_count": 16,
   "metadata": {},
   "outputs": [
    {
     "data": {
      "image/png": "[encoded data removed]",
      "text/plain": [
       "<Figure size 432x288 with 1 Axes>"
      ]
     },
     "metadata": {},
     "output_type": "display_data"
    },
    {
     "data": {
      "text/plain": [
       "count    61.000000\n",
       "mean      8.683607\n",
       "std       0.598660\n",
       "min       7.100000\n",
       "25%       8.200000\n",
       "50%       8.700000\n",
       "75%       9.100000\n",
       "max       9.800000\n",
       "Name: imdb_rating, dtype: float64"
      ]
     },
     "execution_count": 16,
     "metadata": {},
     "output_type": "execute_result"
    }
   ],
   "source": [
    "sns.histplot(data['imdb_rating'], kde=True, stat=\"density\")\n",
    "plt.title('Ratings Distribution')\n",
    "plt.xlabel('Rating')\n",
    "plt.xticks(range(0, 11))\n",
    "\n",
    "plt.show()\n",
    "\n",
    "data['imdb_rating'].describe()"
   ]
  },
  {
   "cell_type": "markdown",
   "metadata": {},
   "source": [
    "We can see that most of the TV show episodes have very high IMDb Ratings. <br>\n",
    "Minimum rating value is 7.1 and the mean is 8.68. <br>\n",
    "Half of the episodes received a rating of more than 8.7 and a quarter received more than 9.1. <br>\n",
    "These are extremely good results and they show the love of viewers for the TV show"
   ]
  },
  {
   "cell_type": "markdown",
   "metadata": {},
   "source": [
    "<h3 align='center'> Books and Chapters Ratings </h3>"
   ]
  },
  {
   "cell_type": "code",
   "execution_count": 17,
   "metadata": {},
   "outputs": [
    {
     "data": {
      "image/png": "[encoded data removed]",
      "text/plain": [
       "<Figure size 432x288 with 1 Axes>"
      ]
     },
     "metadata": {},
     "output_type": "display_data"
    }
   ],
   "source": [
    "sns.lineplot(x='book_chapt', y='imdb_rating', hue='book', data=data,\n",
    "             palette=['#45b5c3', '#49b760', '#c98232'])\n",
    "\n",
    "plt.title('Chapter Ratings')\n",
    "plt.xlabel('Chapter')\n",
    "plt.ylabel('Rating')\n",
    "plt.yticks(range(0, 11))\n",
    "\n",
    "plt.show()"
   ]
  },
  {
   "cell_type": "code",
   "execution_count": 18,
   "metadata": {},
   "outputs": [
    {
     "data": {
      "image/png": "[encoded data removed]",
      "text/plain": [
       "<Figure size 432x288 with 1 Axes>"
      ]
     },
     "metadata": {},
     "output_type": "display_data"
    }
   ],
   "source": [
    "sns.regplot(x='book_chapt', y='imdb_rating', data=data)\n",
    "plt.title('Chapter and rating correlation')\n",
    "plt.xlabel('Chapter')\n",
    "plt.ylabel('Rating')\n",
    "plt.yticks(range(0, 11))\n",
    "\n",
    "plt.show()"
   ]
  },
  {
   "cell_type": "code",
   "execution_count": 19,
   "metadata": {},
   "outputs": [
    {
     "data": {
      "image/png": "[encoded data removed]",
      "text/plain": [
       "<Figure size 432x288 with 1 Axes>"
      ]
     },
     "metadata": {},
     "output_type": "display_data"
    }
   ],
   "source": [
    "fig, ax = plt.subplots()\n",
    "\n",
    "graph = sns.barplot(ax=ax, x='book', y='series_rating', data=data,\n",
    "            palette=['#83bbca', '#9bae58', '#d36336'])\n",
    "plt.title('Book Ratings')\n",
    "plt.xlabel('Book')\n",
    "plt.ylabel('Rating')\n",
    "plt.yticks(range(0, 11))\n",
    "\n",
    "for p in graph.patches:\n",
    "    graph.annotate('{:.2f}'.format(p.get_height()), (p.get_x()+0.4, p.get_height()),\n",
    "                    ha='center', va='bottom')\n",
    "\n",
    "plt.show()"
   ]
  },
  {
   "cell_type": "markdown",
   "metadata": {},
   "source": [
    "On the graph \"Chapter and rating correlation\" we can see a positive correlation between the episode number and its rating, so we can assume that the audience's opinion of the TV show has improved over time: the viewers enjoyed the show more and more as they continued watching it. <br>\n",
    "Avatar's ratings increased from season to season and the final season had the highest rating of all. <br>\n",
    "The story of Avatar came to a clear end, it had an epic conclusion and gave the audience an emotional attachment to the TV show as a real legend or saga. It may be the main factor in its popularity and the undying interest in it throughout all seasons"
   ]
  },
  {
   "cell_type": "markdown",
   "metadata": {},
   "source": [
    "<h2 align='center'> Directors </h2>"
   ]
  },
  {
   "cell_type": "code",
   "execution_count": 20,
   "metadata": {},
   "outputs": [
    {
     "data": {
      "image/png": "[encoded data removed]",
      "text/plain": [
       "<Figure size 576x360 with 1 Axes>"
      ]
     },
     "metadata": {},
     "output_type": "display_data"
    }
   ],
   "source": [
    "# Number of directed episodes\n",
    "\n",
    "dir_episodes_cnt = (data[['director', 'book_chapt']].groupby('director')\n",
    "                    .count().sort_values('book_chapt', ascending=False))\n",
    "\n",
    "plt.figure(figsize=(8,5))\n",
    "\n",
    "plt.pie(dir_episodes_cnt['book_chapt'], labels=None, pctdistance=1.25,\n",
    "        autopct=lambda p: '{:.2f}%({:.0f})'.format(p, (p/100)*dir_episodes_cnt['book_chapt'].sum()))\n",
    "plt.title(\"Number of episodes\")\n",
    "plt.legend(title='Director', loc=\"center right\", labels=dir_episodes_cnt.index, \n",
    "           bbox_to_anchor=(1.3, 0, 0.5, 1))\n",
    "\n",
    "plt.show()"
   ]
  },
  {
   "cell_type": "code",
   "execution_count": 21,
   "metadata": {},
   "outputs": [
    {
     "data": {
      "image/png": "[encoded data removed]",
      "text/plain": [
       "<Figure size 360x360 with 1 Axes>"
      ]
     },
     "metadata": {},
     "output_type": "display_data"
    },
    {
     "data": {
      "image/png": "[encoded data removed]",
      "text/plain": [
       "<Figure size 864x216 with 2 Axes>"
      ]
     },
     "metadata": {},
     "output_type": "display_data"
    }
   ],
   "source": [
    "# Ratings of the directed episodes\n",
    "\n",
    "sns.catplot(x='imdb_rating', y='director', data=data)\n",
    "plt.title('Ratings of the directed episodes')\n",
    "plt.xlabel('Ratings')\n",
    "plt.ylabel('Director')\n",
    "plt.xticks(range(0, 11))\n",
    "\n",
    "plt.show()\n",
    "\n",
    "fig, ax = plt.subplots(1, 2, figsize=(12,3))\n",
    "\n",
    "avg_rating = (data[['director', 'imdb_rating']].groupby('director')\n",
    "              .mean().sort_values('imdb_rating', ascending=False))\n",
    "\n",
    "max_rating = (data[['director', 'imdb_rating']].groupby('director')\n",
    "              .max().sort_values('imdb_rating', ascending=False))\n",
    "\n",
    "def draw_barplot(val_type, idx, val_type_df, colors):\n",
    "    sns.barplot(ax=ax[idx], x='imdb_rating', y=val_type_df.index, data=val_type_df,\n",
    "                palette=colors)\n",
    "    ax[idx].set_xlabel('{} rating'.format(val_type))\n",
    "    ax[idx].set_ylabel('Director')\n",
    "    ax[idx].set_title('{} ratings of the directed episodes'.format(val_type))\n",
    "\n",
    "draw_barplot('Average', 0, avg_rating, 'viridis')\n",
    "draw_barplot('Maximum', 1, max_rating, 'rocket')\n",
    "\n",
    "fig.tight_layout()\n",
    "\n",
    "plt.show()"
   ]
  },
  {
   "cell_type": "markdown",
   "metadata": {},
   "source": [
    "As we can see, Giancarlo Volpe has directed the most number of episodes, but the average rating of his episodes is not the best. This is partly due to the fact that the episode with the lowest rating belongs to him. <br>\n",
    "Michael Dante DiMartino has directed only one episode, and this episode received quite high rating. <br>\n",
    "The episode with the highest rating of all belongs to Joaquim Dos Santos. The average rating of all his episodes is also high: he ranks second (after Michael Dante DiMartino)."
   ]
  },
  {
   "cell_type": "markdown",
   "metadata": {},
   "source": [
    "<h2 align='center'> Writers </h2>"
   ]
  },
  {
   "cell_type": "markdown",
   "metadata": {},
   "source": [
    "Let's extract data we need (writer, imdb_rating, book_chapt) from the \"Avatar\" table. There is no \"book_chapter\" column in this table, but there are \"book_num\" and \"chapter_num\". We remember that there are 20 episodes in the first two seasons, so we can easily get the book chapter. <br>\n",
    "We also remember that there was a problem with the rating of the 20th episode in the \"Avatar\" table. In our new table we will need to set correct rating for this episode."
   ]
  },
  {
   "cell_type": "code",
   "execution_count": 22,
   "metadata": {},
   "outputs": [
    {
     "data": {
      "text/html": [
       "<div>\n",
       "<style scoped>\n",
       "    .dataframe tbody tr th:only-of-type {\n",
       "        vertical-align: middle;\n",
       "    }\n",
       "\n",
       "    .dataframe tbody tr th {\n",
       "        vertical-align: top;\n",
       "    }\n",
       "\n",
       "    .dataframe thead th {\n",
       "        text-align: right;\n",
       "    }\n",
       "</style>\n",
       "<table border=\"1\" class=\"dataframe\">\n",
       "  <thead>\n",
       "    <tr style=\"text-align: right;\">\n",
       "      <th></th>\n",
       "      <th>writer</th>\n",
       "      <th>imdb_rating</th>\n",
       "      <th>book_chapt</th>\n",
       "    </tr>\n",
       "  </thead>\n",
       "  <tbody>\n",
       "    <tr>\n",
       "      <th>1</th>\n",
       "      <td>&lt;U+200E&gt;Michael Dante DiMartino, Bryan Konietz...</td>\n",
       "      <td>8.1</td>\n",
       "      <td>1</td>\n",
       "    </tr>\n",
       "    <tr>\n",
       "      <th>224</th>\n",
       "      <td>Michael Dante DiMartino, Bryan Konietzko, Aaro...</td>\n",
       "      <td>8.3</td>\n",
       "      <td>2</td>\n",
       "    </tr>\n",
       "    <tr>\n",
       "      <th>406</th>\n",
       "      <td>Michael Dante DiMartino</td>\n",
       "      <td>8.5</td>\n",
       "      <td>3</td>\n",
       "    </tr>\n",
       "    <tr>\n",
       "      <th>679</th>\n",
       "      <td>Nick Malis</td>\n",
       "      <td>8.2</td>\n",
       "      <td>4</td>\n",
       "    </tr>\n",
       "    <tr>\n",
       "      <th>983</th>\n",
       "      <td>John O'Bryan</td>\n",
       "      <td>8.2</td>\n",
       "      <td>5</td>\n",
       "    </tr>\n",
       "    <tr>\n",
       "      <th>1206</th>\n",
       "      <td>Matthew Hubbard</td>\n",
       "      <td>8.0</td>\n",
       "      <td>6</td>\n",
       "    </tr>\n",
       "    <tr>\n",
       "      <th>1444</th>\n",
       "      <td>Aaron Ehasz</td>\n",
       "      <td>8.2</td>\n",
       "      <td>7</td>\n",
       "    </tr>\n",
       "    <tr>\n",
       "      <th>1625</th>\n",
       "      <td>Michael Dante DiMartino</td>\n",
       "      <td>8.9</td>\n",
       "      <td>8</td>\n",
       "    </tr>\n",
       "    <tr>\n",
       "      <th>1846</th>\n",
       "      <td>John O'Bryan</td>\n",
       "      <td>8.0</td>\n",
       "      <td>9</td>\n",
       "    </tr>\n",
       "    <tr>\n",
       "      <th>2069</th>\n",
       "      <td>James Eagan</td>\n",
       "      <td>7.8</td>\n",
       "      <td>10</td>\n",
       "    </tr>\n",
       "    <tr>\n",
       "      <th>2359</th>\n",
       "      <td>John O'Bryan</td>\n",
       "      <td>7.1</td>\n",
       "      <td>11</td>\n",
       "    </tr>\n",
       "    <tr>\n",
       "      <th>2546</th>\n",
       "      <td>Aaron Ehasz</td>\n",
       "      <td>9.1</td>\n",
       "      <td>12</td>\n",
       "    </tr>\n",
       "    <tr>\n",
       "      <th>2823</th>\n",
       "      <td>Bryan Konietzko, Michael Dante DiMartino</td>\n",
       "      <td>9.1</td>\n",
       "      <td>13</td>\n",
       "    </tr>\n",
       "    <tr>\n",
       "      <th>2967</th>\n",
       "      <td>John O'Bryan, Aaron Ehasz</td>\n",
       "      <td>7.9</td>\n",
       "      <td>14</td>\n",
       "    </tr>\n",
       "    <tr>\n",
       "      <th>3298</th>\n",
       "      <td>Ian Wilcox</td>\n",
       "      <td>7.9</td>\n",
       "      <td>15</td>\n",
       "    </tr>\n",
       "    <tr>\n",
       "      <th>3565</th>\n",
       "      <td>Tim Hedrick</td>\n",
       "      <td>8.5</td>\n",
       "      <td>16</td>\n",
       "    </tr>\n",
       "    <tr>\n",
       "      <th>3808</th>\n",
       "      <td>Elizabeth Welch Ehasz</td>\n",
       "      <td>8.1</td>\n",
       "      <td>17</td>\n",
       "    </tr>\n",
       "    <tr>\n",
       "      <th>4036</th>\n",
       "      <td>Michael Dante DiMartino</td>\n",
       "      <td>8.6</td>\n",
       "      <td>18</td>\n",
       "    </tr>\n",
       "    <tr>\n",
       "      <th>4268</th>\n",
       "      <td>John O'Bryan</td>\n",
       "      <td>9.4</td>\n",
       "      <td>19</td>\n",
       "    </tr>\n",
       "    <tr>\n",
       "      <th>4460</th>\n",
       "      <td>Aaron Ehasz</td>\n",
       "      <td>9.7</td>\n",
       "      <td>20</td>\n",
       "    </tr>\n",
       "  </tbody>\n",
       "</table>\n",
       "</div>"
      ],
      "text/plain": [
       "                                                 writer  imdb_rating  \\\n",
       "1     <U+200E>Michael Dante DiMartino, Bryan Konietz...          8.1   \n",
       "224   Michael Dante DiMartino, Bryan Konietzko, Aaro...          8.3   \n",
       "406                             Michael Dante DiMartino          8.5   \n",
       "679                                          Nick Malis          8.2   \n",
       "983                                        John O'Bryan          8.2   \n",
       "1206                                    Matthew Hubbard          8.0   \n",
       "1444                                        Aaron Ehasz          8.2   \n",
       "1625                            Michael Dante DiMartino          8.9   \n",
       "1846                                       John O'Bryan          8.0   \n",
       "2069                                        James Eagan          7.8   \n",
       "2359                                       John O'Bryan          7.1   \n",
       "2546                                        Aaron Ehasz          9.1   \n",
       "2823           Bryan Konietzko, Michael Dante DiMartino          9.1   \n",
       "2967                          John O'Bryan, Aaron Ehasz          7.9   \n",
       "3298                                         Ian Wilcox          7.9   \n",
       "3565                                        Tim Hedrick          8.5   \n",
       "3808                              Elizabeth Welch Ehasz          8.1   \n",
       "4036                            Michael Dante DiMartino          8.6   \n",
       "4268                                       John O'Bryan          9.4   \n",
       "4460                                        Aaron Ehasz          9.7   \n",
       "\n",
       "      book_chapt  \n",
       "1              1  \n",
       "224            2  \n",
       "406            3  \n",
       "679            4  \n",
       "983            5  \n",
       "1206           6  \n",
       "1444           7  \n",
       "1625           8  \n",
       "1846           9  \n",
       "2069          10  \n",
       "2359          11  \n",
       "2546          12  \n",
       "2823          13  \n",
       "2967          14  \n",
       "3298          15  \n",
       "3565          16  \n",
       "3808          17  \n",
       "4036          18  \n",
       "4268          19  \n",
       "4460          20  "
      ]
     },
     "execution_count": 22,
     "metadata": {},
     "output_type": "execute_result"
    }
   ],
   "source": [
    "writer_ratings = avatar[['writer', 'book_num', 'chapter_num', 'imdb_rating']].drop_duplicates()\n",
    "writer_ratings['book_chapt'] = (writer_ratings['book_num'] - 1) * 20 + writer_ratings['chapter_num'] \n",
    "writer_ratings = writer_ratings.drop(['book_num', 'chapter_num'], 1)\n",
    "\n",
    "writer_ratings.loc[writer_ratings['book_chapt'] == 20, 'imdb_rating'] = \\\n",
    "float(data.loc[data['book_chapt'] == 20, 'imdb_rating'])\n",
    "\n",
    "writer_ratings.head(20)"
   ]
  },
  {
   "cell_type": "markdown",
   "metadata": {},
   "source": [
    "<h3> Comparing working alone and in a team while writing an episode script </h3>"
   ]
  },
  {
   "cell_type": "code",
   "execution_count": 23,
   "metadata": {},
   "outputs": [
    {
     "data": {
      "text/html": [
       "<div>\n",
       "<style scoped>\n",
       "    .dataframe tbody tr th:only-of-type {\n",
       "        vertical-align: middle;\n",
       "    }\n",
       "\n",
       "    .dataframe tbody tr th {\n",
       "        vertical-align: top;\n",
       "    }\n",
       "\n",
       "    .dataframe thead th {\n",
       "        text-align: right;\n",
       "    }\n",
       "</style>\n",
       "<table border=\"1\" class=\"dataframe\">\n",
       "  <thead>\n",
       "    <tr style=\"text-align: right;\">\n",
       "      <th></th>\n",
       "      <th>writer</th>\n",
       "      <th>imdb_rating</th>\n",
       "      <th>book_chapt</th>\n",
       "      <th>writers_num</th>\n",
       "    </tr>\n",
       "  </thead>\n",
       "  <tbody>\n",
       "    <tr>\n",
       "      <th>6882</th>\n",
       "      <td>Tim Hedrick</td>\n",
       "      <td>8.8</td>\n",
       "      <td>31</td>\n",
       "      <td>Alone</td>\n",
       "    </tr>\n",
       "    <tr>\n",
       "      <th>6032</th>\n",
       "      <td>Elizabeth Welch Ehasz</td>\n",
       "      <td>9.5</td>\n",
       "      <td>27</td>\n",
       "      <td>Alone</td>\n",
       "    </tr>\n",
       "    <tr>\n",
       "      <th>6251</th>\n",
       "      <td>Joshua Hamilton</td>\n",
       "      <td>9.0</td>\n",
       "      <td>28</td>\n",
       "      <td>Alone</td>\n",
       "    </tr>\n",
       "    <tr>\n",
       "      <th>6496</th>\n",
       "      <td>Aaron Ehasz</td>\n",
       "      <td>8.6</td>\n",
       "      <td>29</td>\n",
       "      <td>Alone</td>\n",
       "    </tr>\n",
       "    <tr>\n",
       "      <th>6673</th>\n",
       "      <td>John O'Bryan</td>\n",
       "      <td>8.8</td>\n",
       "      <td>30</td>\n",
       "      <td>Alone</td>\n",
       "    </tr>\n",
       "    <tr>\n",
       "      <th>...</th>\n",
       "      <td>...</td>\n",
       "      <td>...</td>\n",
       "      <td>...</td>\n",
       "      <td>...</td>\n",
       "    </tr>\n",
       "    <tr>\n",
       "      <th>2967</th>\n",
       "      <td>John O'Bryan, Aaron Ehasz</td>\n",
       "      <td>7.9</td>\n",
       "      <td>14</td>\n",
       "      <td>Team</td>\n",
       "    </tr>\n",
       "    <tr>\n",
       "      <th>2823</th>\n",
       "      <td>Bryan Konietzko, Michael Dante DiMartino</td>\n",
       "      <td>9.1</td>\n",
       "      <td>13</td>\n",
       "      <td>Team</td>\n",
       "    </tr>\n",
       "    <tr>\n",
       "      <th>224</th>\n",
       "      <td>Michael Dante DiMartino, Bryan Konietzko, Aaro...</td>\n",
       "      <td>8.3</td>\n",
       "      <td>2</td>\n",
       "      <td>Team</td>\n",
       "    </tr>\n",
       "    <tr>\n",
       "      <th>8645</th>\n",
       "      <td>Michael Dante DiMartino, Bryan Konietzko</td>\n",
       "      <td>9.1</td>\n",
       "      <td>39</td>\n",
       "      <td>Team</td>\n",
       "    </tr>\n",
       "    <tr>\n",
       "      <th>13295</th>\n",
       "      <td>Aaron Ehasz, Michael Dante DiMartino, Bryan Ko...</td>\n",
       "      <td>9.8</td>\n",
       "      <td>61</td>\n",
       "      <td>Team</td>\n",
       "    </tr>\n",
       "  </tbody>\n",
       "</table>\n",
       "<p>61 rows × 4 columns</p>\n",
       "</div>"
      ],
      "text/plain": [
       "                                                  writer  imdb_rating  \\\n",
       "6882                                         Tim Hedrick          8.8   \n",
       "6032                               Elizabeth Welch Ehasz          9.5   \n",
       "6251                                     Joshua Hamilton          9.0   \n",
       "6496                                         Aaron Ehasz          8.6   \n",
       "6673                                        John O'Bryan          8.8   \n",
       "...                                                  ...          ...   \n",
       "2967                           John O'Bryan, Aaron Ehasz          7.9   \n",
       "2823            Bryan Konietzko, Michael Dante DiMartino          9.1   \n",
       "224    Michael Dante DiMartino, Bryan Konietzko, Aaro...          8.3   \n",
       "8645            Michael Dante DiMartino, Bryan Konietzko          9.1   \n",
       "13295  Aaron Ehasz, Michael Dante DiMartino, Bryan Ko...          9.8   \n",
       "\n",
       "       book_chapt writers_num  \n",
       "6882           31       Alone  \n",
       "6032           27       Alone  \n",
       "6251           28       Alone  \n",
       "6496           29       Alone  \n",
       "6673           30       Alone  \n",
       "...           ...         ...  \n",
       "2967           14        Team  \n",
       "2823           13        Team  \n",
       "224             2        Team  \n",
       "8645           39        Team  \n",
       "13295          61        Team  \n",
       "\n",
       "[61 rows x 4 columns]"
      ]
     },
     "execution_count": 23,
     "metadata": {},
     "output_type": "execute_result"
    }
   ],
   "source": [
    "# Adding a column to the table \"writer_ratings\" with the values \n",
    "# \"Alone\" or \"Team\" based on number of writers\n",
    "\n",
    "writer_ratings['writers_num'] = (writer_ratings['writer']\n",
    "                                 .apply(lambda x : 'Alone' if len(x.split(', ')) == 1 else 'Team'))\n",
    "writer_ratings = writer_ratings.sort_values('writers_num')\n",
    "writer_ratings"
   ]
  },
  {
   "cell_type": "markdown",
   "metadata": {},
   "source": [
    "First glance at the differences between the samples:"
   ]
  },
  {
   "cell_type": "code",
   "execution_count": 24,
   "metadata": {},
   "outputs": [
    {
     "data": {
      "image/png": "[encoded data removed]",
      "text/plain": [
       "<Figure size 432x288 with 1 Axes>"
      ]
     },
     "metadata": {},
     "output_type": "display_data"
    },
    {
     "data": {
      "text/html": [
       "<div>\n",
       "<style scoped>\n",
       "    .dataframe tbody tr th:only-of-type {\n",
       "        vertical-align: middle;\n",
       "    }\n",
       "\n",
       "    .dataframe tbody tr th {\n",
       "        vertical-align: top;\n",
       "    }\n",
       "\n",
       "    .dataframe thead th {\n",
       "        text-align: right;\n",
       "    }\n",
       "</style>\n",
       "<table border=\"1\" class=\"dataframe\">\n",
       "  <thead>\n",
       "    <tr style=\"text-align: right;\">\n",
       "      <th></th>\n",
       "      <th>avg_rating</th>\n",
       "      <th>max_rating</th>\n",
       "      <th>min_rating</th>\n",
       "      <th>std_dev</th>\n",
       "      <th>samlpe_size</th>\n",
       "    </tr>\n",
       "    <tr>\n",
       "      <th>writers_num</th>\n",
       "      <th></th>\n",
       "      <th></th>\n",
       "      <th></th>\n",
       "      <th></th>\n",
       "      <th></th>\n",
       "    </tr>\n",
       "  </thead>\n",
       "  <tbody>\n",
       "    <tr>\n",
       "      <th>Alone</th>\n",
       "      <td>8.641667</td>\n",
       "      <td>9.7</td>\n",
       "      <td>7.1</td>\n",
       "      <td>0.601004</td>\n",
       "      <td>48</td>\n",
       "    </tr>\n",
       "    <tr>\n",
       "      <th>Team</th>\n",
       "      <td>8.838462</td>\n",
       "      <td>9.8</td>\n",
       "      <td>7.9</td>\n",
       "      <td>0.586712</td>\n",
       "      <td>13</td>\n",
       "    </tr>\n",
       "  </tbody>\n",
       "</table>\n",
       "</div>"
      ],
      "text/plain": [
       "             avg_rating  max_rating  min_rating   std_dev  samlpe_size\n",
       "writers_num                                                           \n",
       "Alone          8.641667         9.7         7.1  0.601004           48\n",
       "Team           8.838462         9.8         7.9  0.586712           13"
      ]
     },
     "execution_count": 24,
     "metadata": {},
     "output_type": "execute_result"
    }
   ],
   "source": [
    "sns.boxplot(x='writers_num', y='imdb_rating', data=writer_ratings)\n",
    "plt.title('The impact of teamwork on ratings')\n",
    "plt.ylabel('Ratings')\n",
    "plt.xlabel('Number of writers')\n",
    "plt.yticks(range(0, 11))\n",
    "\n",
    "plt.show()\n",
    "\n",
    "comparative_values = (writer_ratings[['writers_num', 'imdb_rating']].groupby('writers_num').mean()\n",
    "                      .rename(columns = {'imdb_rating' : 'avg_rating'}))\n",
    "comparative_values['max_rating'] = (writer_ratings[['writers_num', 'imdb_rating']]\n",
    "                                    .groupby('writers_num').max()['imdb_rating'])\n",
    "comparative_values['min_rating'] = (writer_ratings[['writers_num', 'imdb_rating']]\n",
    "                                    .groupby('writers_num').min()['imdb_rating'])\n",
    "comparative_values['std_dev'] = (writer_ratings[['writers_num', 'imdb_rating']]\n",
    "                                    .groupby('writers_num').std()['imdb_rating'])\n",
    "comparative_values['samlpe_size'] = (writer_ratings[['writers_num', 'imdb_rating']]\n",
    "                                    .groupby('writers_num').count()['imdb_rating'])\n",
    "comparative_values"
   ]
  },
  {
   "cell_type": "markdown",
   "metadata": {},
   "source": [
    "At first glance, it seems like teamwork was more successful: the first three measures (average, maximum, minimum) are greater for episodes that several people worked on. But there are many more episodes than one person worked on, and the range of these ratings is greater than for teams. It means that we can not make exact conclusions right now. We need to do a statistical test to determine if there is a significant difference between the means of two groups."
   ]
  },
  {
   "cell_type": "code",
   "execution_count": 25,
   "metadata": {},
   "outputs": [],
   "source": [
    "alone_writers = writer_ratings.loc[writer_ratings['writers_num'] == 'Alone']\n",
    "team_writers = writer_ratings.loc[writer_ratings['writers_num'] == 'Team']"
   ]
  },
  {
   "cell_type": "markdown",
   "metadata": {},
   "source": [
    "To select a suitable test, we need to check the samples for the normality of the distribution. <br>\n",
    "We are going to use two methods for checking normality:\n",
    "- visual method (histogram)\n",
    "- normality test (Shapiro-Wilk test)"
   ]
  },
  {
   "cell_type": "code",
   "execution_count": 26,
   "metadata": {},
   "outputs": [
    {
     "data": {
      "image/png": "[encoded data removed]",
      "text/plain": [
       "<Figure size 864x216 with 2 Axes>"
      ]
     },
     "metadata": {},
     "output_type": "display_data"
    }
   ],
   "source": [
    "fig, ax = plt.subplots(1, 2, figsize=(12,3))\n",
    "\n",
    "def draw_histplot(val_type, idx, df):\n",
    "    sns.histplot(df['imdb_rating'], kde = True, stat='density', ax=ax[idx])\n",
    "    ax[idx].set_title('{}'.format(val_type))\n",
    "    ax[idx].set_xlabel('Rating')\n",
    "    \n",
    "draw_histplot('Alone', 0, alone_writers)\n",
    "draw_histplot('Team', 1, team_writers)\n",
    "\n",
    "fig.tight_layout()\n",
    "\n",
    "plt.show()"
   ]
  },
  {
   "cell_type": "code",
   "execution_count": 27,
   "metadata": {},
   "outputs": [
    {
     "name": "stdout",
     "output_type": "stream",
     "text": [
      "Sample \"Alone\" looks Gaussian (fail to reject H0)\n",
      "p = 0.53\n",
      "\n",
      "Sample \"Team\" looks Gaussian (fail to reject H0)\n",
      "p = 0.75\n",
      "\n"
     ]
    }
   ],
   "source": [
    "def shapiro_pvalue(val, alpha, df):\n",
    "    pvalue = stats.shapiro(df['imdb_rating']).pvalue\n",
    "    if pvalue > alpha:\n",
    "        print('Sample \"{}\" looks Gaussian (fail to reject H0)'.format(val))\n",
    "        print('p = {:.2f}'.format(pvalue))\n",
    "    else:\n",
    "        print('Sample \"{}\" does not look Gaussian (reject H0)'.format(val))\n",
    "        print('p = {:.2f}'.format(pvalue))\n",
    "    print()\n",
    "    \n",
    "shapiro_pvalue('Alone', 0.05, alone_writers)\n",
    "shapiro_pvalue('Team', 0.05, team_writers)"
   ]
  },
  {
   "cell_type": "markdown",
   "metadata": {},
   "source": [
    "> The normality test compares the scores in the sample to a normally distributed set of scores with the same mean and standard deviation. <br>\n",
    "> The null hypothesis is that \"sample distribution is normal\". If the test is significant (p-value is less than alpha), the distribution is non-normal. <br>\n",
    "\n",
    "We don't see the usual bell shapes on the plots, but the Shapiro-Wilk test tells us that samples are normally distributed. For small sample sizes, normality tests have little power to reject the null hypothesis and therefore small samples most often pass normality tests. Therefore, it is better to rely on the graphical interpretation in this case and conclude that sample distribution is not normal. <br>\n",
    "\n",
    "We will use the Mann–Whitney U test as the most appropriate in this case.\n",
    "> In statistics, the Mann–Whitney U test is a nonparametric test of statistical significance for determining whether two independent samples were taken from a population with the same distribution.\n",
    "\n",
    "Let's take the statement \"There is no difference between working alone and in a team while writing an episode script\" as a null hypothesis for the Mann–Whitney U test. "
   ]
  },
  {
   "cell_type": "code",
   "execution_count": 28,
   "metadata": {},
   "outputs": [
    {
     "name": "stdout",
     "output_type": "stream",
     "text": [
      "The differences between the samples are statistically insignificant (fail to reject H0)\n",
      "p = 0.19\n"
     ]
    }
   ],
   "source": [
    "alpha = 0.05\n",
    "p = stats.mannwhitneyu(alone_writers['imdb_rating'], team_writers['imdb_rating']).pvalue\n",
    "\n",
    "if p > alpha:\n",
    "    print('The differences between the samples are statistically insignificant (fail to reject H0)')\n",
    "    print('p = {:.2f}'.format(p))\n",
    "else:\n",
    "    print('The differences between the samples are statistically significant (reject H0)')\n",
    "    print('p = {:.2f}'.format(p))"
   ]
  },
  {
   "cell_type": "markdown",
   "metadata": {},
   "source": [
    "Conclusion <br><br>\n",
    "\n",
    "We do not have sufficient evidence to conclude that there is a difference between working alone and in a team while writing an episode script. Any differences between the samples are due to the sampling errors."
   ]
  },
  {
   "cell_type": "markdown",
   "metadata": {},
   "source": [
    "<h2 align='center'> Characters </h2>"
   ]
  },
  {
   "cell_type": "code",
   "execution_count": 204,
   "metadata": {},
   "outputs": [
    {
     "data": {
      "text/html": [
       "<div>\n",
       "<style scoped>\n",
       "    .dataframe tbody tr th:only-of-type {\n",
       "        vertical-align: middle;\n",
       "    }\n",
       "\n",
       "    .dataframe tbody tr th {\n",
       "        vertical-align: top;\n",
       "    }\n",
       "\n",
       "    .dataframe thead th {\n",
       "        text-align: right;\n",
       "    }\n",
       "</style>\n",
       "<table border=\"1\" class=\"dataframe\">\n",
       "  <thead>\n",
       "    <tr style=\"text-align: right;\">\n",
       "      <th></th>\n",
       "      <th>character</th>\n",
       "      <th>book</th>\n",
       "      <th>book_num</th>\n",
       "      <th>character_words</th>\n",
       "      <th>book_chapt</th>\n",
       "    </tr>\n",
       "  </thead>\n",
       "  <tbody>\n",
       "    <tr>\n",
       "      <th>1</th>\n",
       "      <td>Katara</td>\n",
       "      <td>Water</td>\n",
       "      <td>1</td>\n",
       "      <td>Water. Earth. Fire. Air. My grandmother used t...</td>\n",
       "      <td>1</td>\n",
       "    </tr>\n",
       "    <tr>\n",
       "      <th>3</th>\n",
       "      <td>Sokka</td>\n",
       "      <td>Water</td>\n",
       "      <td>1</td>\n",
       "      <td>It's not getting away from me this time.  Watc...</td>\n",
       "      <td>1</td>\n",
       "    </tr>\n",
       "    <tr>\n",
       "      <th>5</th>\n",
       "      <td>Katara</td>\n",
       "      <td>Water</td>\n",
       "      <td>1</td>\n",
       "      <td>Sokka, look!</td>\n",
       "      <td>1</td>\n",
       "    </tr>\n",
       "    <tr>\n",
       "      <th>6</th>\n",
       "      <td>Sokka</td>\n",
       "      <td>Water</td>\n",
       "      <td>1</td>\n",
       "      <td>Sshh! Katara, you're going to scare it away.  ...</td>\n",
       "      <td>1</td>\n",
       "    </tr>\n",
       "    <tr>\n",
       "      <th>8</th>\n",
       "      <td>Katara</td>\n",
       "      <td>Water</td>\n",
       "      <td>1</td>\n",
       "      <td>But, Sokka! I caught one!</td>\n",
       "      <td>1</td>\n",
       "    </tr>\n",
       "    <tr>\n",
       "      <th>...</th>\n",
       "      <td>...</td>\n",
       "      <td>...</td>\n",
       "      <td>...</td>\n",
       "      <td>...</td>\n",
       "      <td>...</td>\n",
       "    </tr>\n",
       "    <tr>\n",
       "      <th>13380</th>\n",
       "      <td>Mai</td>\n",
       "      <td>Fire</td>\n",
       "      <td>3</td>\n",
       "      <td>I look like a man.</td>\n",
       "      <td>61</td>\n",
       "    </tr>\n",
       "    <tr>\n",
       "      <th>13381</th>\n",
       "      <td>Suki</td>\n",
       "      <td>Fire</td>\n",
       "      <td>3</td>\n",
       "      <td>And why did you paint me firebending?</td>\n",
       "      <td>61</td>\n",
       "    </tr>\n",
       "    <tr>\n",
       "      <th>13382</th>\n",
       "      <td>Sokka</td>\n",
       "      <td>Fire</td>\n",
       "      <td>3</td>\n",
       "      <td>I thought it looked more exciting that way.  O...</td>\n",
       "      <td>61</td>\n",
       "    </tr>\n",
       "    <tr>\n",
       "      <th>13383</th>\n",
       "      <td>Iroh</td>\n",
       "      <td>Fire</td>\n",
       "      <td>3</td>\n",
       "      <td>Hey, my belly's not that big anymore. I've rea...</td>\n",
       "      <td>61</td>\n",
       "    </tr>\n",
       "    <tr>\n",
       "      <th>13384</th>\n",
       "      <td>Toph</td>\n",
       "      <td>Fire</td>\n",
       "      <td>3</td>\n",
       "      <td>Well I think you all look perfect!</td>\n",
       "      <td>61</td>\n",
       "    </tr>\n",
       "  </tbody>\n",
       "</table>\n",
       "<p>9992 rows × 5 columns</p>\n",
       "</div>"
      ],
      "text/plain": [
       "      character   book  book_num  \\\n",
       "1        Katara  Water         1   \n",
       "3         Sokka  Water         1   \n",
       "5        Katara  Water         1   \n",
       "6         Sokka  Water         1   \n",
       "8        Katara  Water         1   \n",
       "...         ...    ...       ...   \n",
       "13380       Mai   Fire         3   \n",
       "13381      Suki   Fire         3   \n",
       "13382     Sokka   Fire         3   \n",
       "13383      Iroh   Fire         3   \n",
       "13384      Toph   Fire         3   \n",
       "\n",
       "                                         character_words  book_chapt  \n",
       "1      Water. Earth. Fire. Air. My grandmother used t...           1  \n",
       "3      It's not getting away from me this time.  Watc...           1  \n",
       "5                                           Sokka, look!           1  \n",
       "6      Sshh! Katara, you're going to scare it away.  ...           1  \n",
       "8                              But, Sokka! I caught one!           1  \n",
       "...                                                  ...         ...  \n",
       "13380                                 I look like a man.          61  \n",
       "13381              And why did you paint me firebending?          61  \n",
       "13382  I thought it looked more exciting that way.  O...          61  \n",
       "13383  Hey, my belly's not that big anymore. I've rea...          61  \n",
       "13384                 Well I think you all look perfect!          61  \n",
       "\n",
       "[9992 rows x 5 columns]"
      ]
     },
     "execution_count": 204,
     "metadata": {},
     "output_type": "execute_result"
    }
   ],
   "source": [
    "characters = (avatar[['character', 'book', 'book_num', 'chapter_num', 'character_words']]\n",
    "              .loc[avatar['character'] != 'Scene Description'])\n",
    "characters['book_chapt'] = (characters['book_num'] - 1) * 20 + characters['chapter_num'] \n",
    "characters = characters.drop('chapter_num', 1)\n",
    "\n",
    "characters"
   ]
  },
  {
   "cell_type": "code",
   "execution_count": 342,
   "metadata": {},
   "outputs": [
    {
     "data": {
      "text/html": [
       "<div>\n",
       "<style scoped>\n",
       "    .dataframe tbody tr th:only-of-type {\n",
       "        vertical-align: middle;\n",
       "    }\n",
       "\n",
       "    .dataframe tbody tr th {\n",
       "        vertical-align: top;\n",
       "    }\n",
       "\n",
       "    .dataframe thead th {\n",
       "        text-align: right;\n",
       "    }\n",
       "</style>\n",
       "<table border=\"1\" class=\"dataframe\">\n",
       "  <thead>\n",
       "    <tr style=\"text-align: right;\">\n",
       "      <th></th>\n",
       "      <th>character</th>\n",
       "      <th>book</th>\n",
       "      <th>book_num</th>\n",
       "      <th>book_chapt</th>\n",
       "      <th>sum_phrases</th>\n",
       "    </tr>\n",
       "  </thead>\n",
       "  <tbody>\n",
       "    <tr>\n",
       "      <th>0</th>\n",
       "      <td>Aang</td>\n",
       "      <td>Water</td>\n",
       "      <td>1</td>\n",
       "      <td>818</td>\n",
       "      <td>1796</td>\n",
       "    </tr>\n",
       "    <tr>\n",
       "      <th>1</th>\n",
       "      <td>Aang</td>\n",
       "      <td>Earth</td>\n",
       "      <td>2</td>\n",
       "      <td>492</td>\n",
       "      <td>1796</td>\n",
       "    </tr>\n",
       "    <tr>\n",
       "      <th>2</th>\n",
       "      <td>Aang</td>\n",
       "      <td>Fire</td>\n",
       "      <td>3</td>\n",
       "      <td>486</td>\n",
       "      <td>1796</td>\n",
       "    </tr>\n",
       "    <tr>\n",
       "      <th>3</th>\n",
       "      <td>Sokka</td>\n",
       "      <td>Water</td>\n",
       "      <td>1</td>\n",
       "      <td>614</td>\n",
       "      <td>1639</td>\n",
       "    </tr>\n",
       "    <tr>\n",
       "      <th>4</th>\n",
       "      <td>Sokka</td>\n",
       "      <td>Earth</td>\n",
       "      <td>2</td>\n",
       "      <td>499</td>\n",
       "      <td>1639</td>\n",
       "    </tr>\n",
       "    <tr>\n",
       "      <th>5</th>\n",
       "      <td>Sokka</td>\n",
       "      <td>Fire</td>\n",
       "      <td>3</td>\n",
       "      <td>526</td>\n",
       "      <td>1639</td>\n",
       "    </tr>\n",
       "    <tr>\n",
       "      <th>6</th>\n",
       "      <td>Katara</td>\n",
       "      <td>Water</td>\n",
       "      <td>1</td>\n",
       "      <td>636</td>\n",
       "      <td>1437</td>\n",
       "    </tr>\n",
       "    <tr>\n",
       "      <th>7</th>\n",
       "      <td>Katara</td>\n",
       "      <td>Earth</td>\n",
       "      <td>2</td>\n",
       "      <td>413</td>\n",
       "      <td>1437</td>\n",
       "    </tr>\n",
       "    <tr>\n",
       "      <th>8</th>\n",
       "      <td>Katara</td>\n",
       "      <td>Fire</td>\n",
       "      <td>3</td>\n",
       "      <td>388</td>\n",
       "      <td>1437</td>\n",
       "    </tr>\n",
       "    <tr>\n",
       "      <th>9</th>\n",
       "      <td>Zuko</td>\n",
       "      <td>Water</td>\n",
       "      <td>1</td>\n",
       "      <td>174</td>\n",
       "      <td>776</td>\n",
       "    </tr>\n",
       "    <tr>\n",
       "      <th>10</th>\n",
       "      <td>Zuko</td>\n",
       "      <td>Earth</td>\n",
       "      <td>2</td>\n",
       "      <td>169</td>\n",
       "      <td>776</td>\n",
       "    </tr>\n",
       "    <tr>\n",
       "      <th>11</th>\n",
       "      <td>Zuko</td>\n",
       "      <td>Fire</td>\n",
       "      <td>3</td>\n",
       "      <td>433</td>\n",
       "      <td>776</td>\n",
       "    </tr>\n",
       "    <tr>\n",
       "      <th>12</th>\n",
       "      <td>Toph</td>\n",
       "      <td>Earth</td>\n",
       "      <td>2</td>\n",
       "      <td>242</td>\n",
       "      <td>507</td>\n",
       "    </tr>\n",
       "    <tr>\n",
       "      <th>13</th>\n",
       "      <td>Toph</td>\n",
       "      <td>Fire</td>\n",
       "      <td>3</td>\n",
       "      <td>265</td>\n",
       "      <td>507</td>\n",
       "    </tr>\n",
       "    <tr>\n",
       "      <th>14</th>\n",
       "      <td>Iroh</td>\n",
       "      <td>Water</td>\n",
       "      <td>1</td>\n",
       "      <td>129</td>\n",
       "      <td>337</td>\n",
       "    </tr>\n",
       "    <tr>\n",
       "      <th>15</th>\n",
       "      <td>Iroh</td>\n",
       "      <td>Earth</td>\n",
       "      <td>2</td>\n",
       "      <td>181</td>\n",
       "      <td>337</td>\n",
       "    </tr>\n",
       "    <tr>\n",
       "      <th>16</th>\n",
       "      <td>Iroh</td>\n",
       "      <td>Fire</td>\n",
       "      <td>3</td>\n",
       "      <td>27</td>\n",
       "      <td>337</td>\n",
       "    </tr>\n",
       "  </tbody>\n",
       "</table>\n",
       "</div>"
      ],
      "text/plain": [
       "   character   book  book_num  book_chapt  sum_phrases\n",
       "0       Aang  Water         1         818         1796\n",
       "1       Aang  Earth         2         492         1796\n",
       "2       Aang   Fire         3         486         1796\n",
       "3      Sokka  Water         1         614         1639\n",
       "4      Sokka  Earth         2         499         1639\n",
       "5      Sokka   Fire         3         526         1639\n",
       "6     Katara  Water         1         636         1437\n",
       "7     Katara  Earth         2         413         1437\n",
       "8     Katara   Fire         3         388         1437\n",
       "9       Zuko  Water         1         174          776\n",
       "10      Zuko  Earth         2         169          776\n",
       "11      Zuko   Fire         3         433          776\n",
       "12      Toph  Earth         2         242          507\n",
       "13      Toph   Fire         3         265          507\n",
       "14      Iroh  Water         1         129          337\n",
       "15      Iroh  Earth         2         181          337\n",
       "16      Iroh   Fire         3          27          337"
      ]
     },
     "execution_count": 342,
     "metadata": {},
     "output_type": "execute_result"
    }
   ],
   "source": [
    "phrases_num = characters[['character', 'book', 'book_num', 'book_chapt']]\n",
    "\n",
    "phrases_num = phrases_num.groupby(['character', 'book', 'book_num']).count()\n",
    "phrases_num.reset_index(level='book_num', inplace=True)          \n",
    "phrases_num.reset_index(level='book', inplace=True)\n",
    "\n",
    "phrases_num['sum_phrases'] = phrases_num.groupby('character').sum()['book_chapt']\n",
    "\n",
    "phrases_num = phrases_num.sort_values(['sum_phrases', 'book_num'], ascending=[False, True])\n",
    "phrases_num.reset_index(level='character', inplace=True)\n",
    "\n",
    "phrases_num = phrases_num.head(17)\n",
    "phrases_num"
   ]
  },
  {
   "cell_type": "code",
   "execution_count": 343,
   "metadata": {},
   "outputs": [
    {
     "data": {
      "image/png": "[encoded data removed]",
      "text/plain": [
       "<Figure size 432x288 with 1 Axes>"
      ]
     },
     "metadata": {},
     "output_type": "display_data"
    }
   ],
   "source": [
    "sns.barplot(x='book_chapt', y='character', hue='book', data=phrases_num, \n",
    "            palette=['#83bbca', '#9bae58', '#d36336'])\n",
    "plt.xlabel('Number of phrases')\n",
    "plt.ylabel('Character')\n",
    "plt.title('Phrases of characters')\n",
    "\n",
    "plt.show()"
   ]
  },
  {
   "cell_type": "code",
   "execution_count": 31,
   "metadata": {},
   "outputs": [],
   "source": [
    "episode_phrases = (characters[['character', 'book_chapt', 'character_words']]\n",
    "                   .groupby(['character', 'book_chapt']).count()\n",
    "                   .sort_values(['book_chapt', 'character_words'], ascending=(True, False)))\n",
    "episode_phrases.reset_index(level=0, inplace=True)\n",
    "episode_phrases.reset_index(level=0, inplace=True)\n",
    "episode_phrases.head(10)\n",
    "\n",
    "aang_phrases = episode_phrases.loc[episode_phrases['character'] == 'Aang']\n",
    "sokka_phrases = episode_phrases.loc[episode_phrases['character'] == 'Sokka']\n",
    "katara_phrases = episode_phrases.loc[episode_phrases['character'] == 'Katara']"
   ]
  },
  {
   "cell_type": "code",
   "execution_count": 32,
   "metadata": {},
   "outputs": [
    {
     "data": {
      "image/png": "[encoded data removed]",
      "text/plain": [
       "<Figure size 864x216 with 2 Axes>"
      ]
     },
     "metadata": {},
     "output_type": "display_data"
    },
    {
     "name": "stdout",
     "output_type": "stream",
     "text": [
      "Ttest_indResult(statistic=-0.3641700793570124, pvalue=0.716382744968895)\n"
     ]
    },
    {
     "data": {
      "image/png": "[encoded data removed]",
      "text/plain": [
       "<Figure size 864x216 with 2 Axes>"
      ]
     },
     "metadata": {},
     "output_type": "display_data"
    },
    {
     "name": "stdout",
     "output_type": "stream",
     "text": [
      "Ttest_indResult(statistic=-1.083294075128052, pvalue=0.28092449967702693)\n"
     ]
    },
    {
     "data": {
      "image/png": "[encoded data removed]",
      "text/plain": [
       "<Figure size 864x216 with 2 Axes>"
      ]
     },
     "metadata": {},
     "output_type": "display_data"
    },
    {
     "name": "stdout",
     "output_type": "stream",
     "text": [
      "Ttest_indResult(statistic=-2.2067296853380705, pvalue=0.029302219577847972)\n"
     ]
    }
   ],
   "source": [
    "def character_plot(character_df, character_name):\n",
    "    fig, ax = plt.subplots(1, 2, figsize=(12,3))\n",
    "    \n",
    "    sns.lineplot(ax=ax[0], x='book_chapt', y='character_words', data=character_df)\n",
    "    \n",
    "    sns.regplot(ax=ax[1], x='book_chapt', y='character_words', data=character_df)\n",
    "    \n",
    "    for i in range(2):\n",
    "        ax[i].set_title('{}\\'s number of phrases through episodes'.format(character_name))\n",
    "        ax[i].set_xlabel('Episode')\n",
    "        ax[i].set_ylabel('Number of phrases')\n",
    "    \n",
    "    fig.tight_layout()\n",
    "    \n",
    "    plt.show()\n",
    "\n",
    "character_plot(aang_phrases, 'Aang')\n",
    "print(stats.ttest_ind(aang_phrases['character_words'], aang_phrases['book_chapt']))\n",
    "\n",
    "character_plot(sokka_phrases, 'Sokka')\n",
    "print(stats.ttest_ind(sokka_phrases['character_words'], sokka_phrases['book_chapt']))\n",
    "\n",
    "character_plot(katara_phrases, 'Katara')\n",
    "print(stats.ttest_ind(katara_phrases['character_words'], katara_phrases['book_chapt']))"
   ]
  },
  {
   "cell_type": "code",
   "execution_count": 38,
   "metadata": {},
   "outputs": [
    {
     "data": {
      "text/plain": [
       "ModeResult(mode=array(['i'], dtype='<U23'), count=array([793]))"
      ]
     },
     "execution_count": 38,
     "metadata": {},
     "output_type": "execute_result"
    }
   ],
   "source": [
    "\n",
    "aang_words = ''.join(characters[['character', 'character_words']].groupby('character')\n",
    "                     .sum().head(1)['character_words'].tolist()[0])\n",
    "aang_words = aang_words.lower()\n",
    "delimiters = [';', ',', '.', ':', '-', '!', '?', ' ']\n",
    "regexPattern = '|'.join(map(re.escape, delimiters))\n",
    "aang_words = re.split(regexPattern, aang_words)\n",
    "\n",
    "aang_words = list(filter(None, aang_words))\n",
    "\n",
    "stats.mode(aang_words)"
   ]
  },
  {
   "cell_type": "code",
   "execution_count": null,
   "metadata": {},
   "outputs": [],
   "source": []
  }
 ],
 "metadata": {
  "kernelspec": {
   "display_name": "Python 3",
   "language": "python",
   "name": "python3"
  },
  "language_info": {
   "codemirror_mode": {
    "name": "ipython",
    "version": 3
   },
   "file_extension": ".py",
   "mimetype": "text/x-python",
   "name": "python",
   "nbconvert_exporter": "python",
   "pygments_lexer": "ipython3",
   "version": "3.8.5"
  }
 },
 "nbformat": 4,
 "nbformat_minor": 4
}
