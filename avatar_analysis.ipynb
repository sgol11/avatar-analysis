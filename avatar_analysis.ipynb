{
 "cells": [
  {
   "cell_type": "markdown",
   "metadata": {},
   "source": [
    "![title](https://i.imgur.com/XXrmxpp.jpeg)"
   ]
  },
  {
   "cell_type": "markdown",
   "metadata": {},
   "source": [
    "> *Avatar: The Last Airbender*, known as *Avatar: The Legend of Aang* in some regions, is an American animated television series produced by Nickelodeon Animation Studios. It aired on Nickelodeon for three seasons, from February 2005 to July 2008.\n",
    ">\n",
    "> <br>\n",
    ">\n",
    "> Avatar is set in an Asiatic-like world in which certain people can manipulate one of the four elements — water, earth, fire, or air—with telekinetic variants of the Chinese martial arts known as \"bending\". The only individual who can bend all four elements, the \"Avatar\", is responsible for maintaining balance between the world's four nations, and serves as the bridge between the physical world and the spirit world. \n",
    ">\n",
    "> <br>\n",
    ">\n",
    "> @Wikipedia\n",
    "\n",
    "![](https://64.media.tumblr.com/b1dc757e072b20026108c8cfcd640c85/tumblr_nvxnup0gzN1uic2oco1_640.jpg)"
   ]
  },
  {
   "cell_type": "markdown",
   "metadata": {},
   "source": [
    "TO DO: <br>\n",
    "- [ ] write smth about high position of Avatar in the IMDb top and its popularity\n",
    "- [ ] attach a link https://www.imdb.com/chart/toptv/?ref_=nv_tvv_250"
   ]
  },
  {
   "cell_type": "code",
   "execution_count": 45,
   "metadata": {},
   "outputs": [],
   "source": [
    "import pandas as pd\n",
    "import numpy as np\n",
    "from scipy import stats\n",
    "\n",
    "import matplotlib.pyplot as plt\n",
    "import seaborn as sns\n",
    "\n",
    "from sqlalchemy import create_engine"
   ]
  },
  {
   "cell_type": "code",
   "execution_count": 46,
   "metadata": {},
   "outputs": [],
   "source": [
    "# reading data from .csv files\n",
    "\n",
    "avatar = pd.read_csv('tables/avatar.csv', encoding = \"ISO-8859-1\", index_col=0)\n",
    "data = pd.read_csv('tables/avatar_data.csv', index_col=0)\n",
    "scenes = pd.read_csv('tables/scenes.csv', encoding = \"ISO-8859-1\", index_col=0)\n",
    "series = pd.read_csv('tables/series_names.csv', index_col=0)"
   ]
  },
  {
   "cell_type": "code",
   "execution_count": 47,
   "metadata": {},
   "outputs": [],
   "source": [
    "engine = create_engine('sqlite://', echo=False)"
   ]
  },
  {
   "cell_type": "code",
   "execution_count": 48,
   "metadata": {},
   "outputs": [],
   "source": [
    "avatar.to_sql('avatar', con=engine, index='False')\n",
    "data.to_sql('data', con=engine, index='False')\n",
    "scenes.to_sql('scenes', con=engine, index='False')\n",
    "series.to_sql('series', con=engine, index='False')"
   ]
  },
  {
   "cell_type": "markdown",
   "metadata": {},
   "source": [
    "<h2 align=\"center\"> Preliminary Data Analysis </h2> "
   ]
  },
  {
   "cell_type": "markdown",
   "metadata": {},
   "source": [
    "First of all, let's look at our dataset and analyze the contents of the tables. <br>\n",
    "With the cell below we get the names of table columns. <br>"
   ]
  },
  {
   "cell_type": "code",
   "execution_count": 49,
   "metadata": {},
   "outputs": [
    {
     "name": "stdout",
     "output_type": "stream",
     "text": [
      "               Column                Tables\n",
      "0                  id        Avatar, Scenes\n",
      "1                book  Avatar, Data, Series\n",
      "2            book_num                Avatar\n",
      "3             chapter                Avatar\n",
      "4         chapter_num                Avatar\n",
      "5           character                Avatar\n",
      "6           full_text                Avatar\n",
      "7     character_words                Avatar\n",
      "8              writer                Avatar\n",
      "9            director          Avatar, Data\n",
      "10        imdb_rating          Avatar, Data\n",
      "11         book_chapt                  Data\n",
      "12         true_chapt                  Data\n",
      "13      series_rating          Data, Series\n",
      "14  scene_description                Scenes\n",
      "15            halfway                Series\n"
     ]
    }
   ],
   "source": [
    "# names of table columns\n",
    "\n",
    "dataset_columns = {}\n",
    "\n",
    "def make_df(table_name, table_columns, res=dataset_columns):\n",
    "    for col in table_columns:\n",
    "        if col not in res:\n",
    "            res[col] = table_name\n",
    "        else:\n",
    "            res[col] += ', {}'.format(table_name)\n",
    "    \n",
    "make_df('Avatar', avatar.columns.tolist())\n",
    "make_df('Data', data.columns.tolist())\n",
    "make_df('Scenes', scenes.columns.tolist())\n",
    "make_df('Series', series.columns.tolist())\n",
    "\n",
    "columns_df = pd.DataFrame(list(dataset_columns.items()), columns=['Column', 'Tables'])\n",
    "print(columns_df)"
   ]
  },
  {
   "cell_type": "code",
   "execution_count": 50,
   "metadata": {},
   "outputs": [
    {
     "data": {
      "text/html": [
       "<div>\n",
       "<style scoped>\n",
       "    .dataframe tbody tr th:only-of-type {\n",
       "        vertical-align: middle;\n",
       "    }\n",
       "\n",
       "    .dataframe tbody tr th {\n",
       "        vertical-align: top;\n",
       "    }\n",
       "\n",
       "    .dataframe thead th {\n",
       "        text-align: right;\n",
       "    }\n",
       "</style>\n",
       "<table border=\"1\" class=\"dataframe\">\n",
       "  <thead>\n",
       "    <tr style=\"text-align: right;\">\n",
       "      <th></th>\n",
       "      <th>book</th>\n",
       "      <th>episodes</th>\n",
       "    </tr>\n",
       "  </thead>\n",
       "  <tbody>\n",
       "    <tr>\n",
       "      <th>0</th>\n",
       "      <td>Water</td>\n",
       "      <td>20</td>\n",
       "    </tr>\n",
       "    <tr>\n",
       "      <th>1</th>\n",
       "      <td>Earth</td>\n",
       "      <td>20</td>\n",
       "    </tr>\n",
       "    <tr>\n",
       "      <th>2</th>\n",
       "      <td>Fire</td>\n",
       "      <td>21</td>\n",
       "    </tr>\n",
       "  </tbody>\n",
       "</table>\n",
       "</div>"
      ],
      "text/plain": [
       "    book  episodes\n",
       "0  Water        20\n",
       "1  Earth        20\n",
       "2   Fire        21"
      ]
     },
     "execution_count": 50,
     "metadata": {},
     "output_type": "execute_result"
    }
   ],
   "source": [
    "# number of episodes in each book sorted in chronological order\n",
    "episodes_cnt = engine.execute(\"\"\"\n",
    "                              SELECT book, COUNT(1) AS episodes\n",
    "                              FROM data\n",
    "                              GROUP BY book\n",
    "                              ORDER BY book_chapt\n",
    "                              \"\"\")\n",
    "episodes_cnt_df = pd.DataFrame(episodes_cnt.fetchall())\n",
    "episodes_cnt_df.columns = episodes_cnt.keys()\n",
    "\n",
    "episodes_cnt_df"
   ]
  },
  {
   "cell_type": "code",
   "execution_count": 51,
   "metadata": {},
   "outputs": [
    {
     "data": {
      "text/html": [
       "<div>\n",
       "<style scoped>\n",
       "    .dataframe tbody tr th:only-of-type {\n",
       "        vertical-align: middle;\n",
       "    }\n",
       "\n",
       "    .dataframe tbody tr th {\n",
       "        vertical-align: top;\n",
       "    }\n",
       "\n",
       "    .dataframe thead th {\n",
       "        text-align: right;\n",
       "    }\n",
       "</style>\n",
       "<table border=\"1\" class=\"dataframe\">\n",
       "  <thead>\n",
       "    <tr style=\"text-align: right;\">\n",
       "      <th></th>\n",
       "      <th>book_chapt</th>\n",
       "    </tr>\n",
       "    <tr>\n",
       "      <th>book</th>\n",
       "      <th></th>\n",
       "    </tr>\n",
       "  </thead>\n",
       "  <tbody>\n",
       "    <tr>\n",
       "      <th>Earth</th>\n",
       "      <td>20</td>\n",
       "    </tr>\n",
       "    <tr>\n",
       "      <th>Fire</th>\n",
       "      <td>21</td>\n",
       "    </tr>\n",
       "    <tr>\n",
       "      <th>Water</th>\n",
       "      <td>20</td>\n",
       "    </tr>\n",
       "  </tbody>\n",
       "</table>\n",
       "</div>"
      ],
      "text/plain": [
       "       book_chapt\n",
       "book             \n",
       "Earth          20\n",
       "Fire           21\n",
       "Water          20"
      ]
     },
     "execution_count": 51,
     "metadata": {},
     "output_type": "execute_result"
    }
   ],
   "source": [
    "# number of episodes in each book\n",
    "data[['book', 'book_chapt']].groupby(['book']).count()"
   ]
  },
  {
   "cell_type": "code",
   "execution_count": 52,
   "metadata": {},
   "outputs": [
    {
     "data": {
      "text/plain": [
       "61"
      ]
     },
     "execution_count": 52,
     "metadata": {},
     "output_type": "execute_result"
    }
   ],
   "source": [
    "# total number of episodes \n",
    "data['book_chapt'].count()"
   ]
  },
  {
   "cell_type": "code",
   "execution_count": 53,
   "metadata": {},
   "outputs": [
    {
     "data": {
      "text/plain": [
       "count    61.000000\n",
       "mean      8.683607\n",
       "std       0.598660\n",
       "min       7.100000\n",
       "25%       8.200000\n",
       "50%       8.700000\n",
       "75%       9.100000\n",
       "max       9.800000\n",
       "Name: imdb_rating, dtype: float64"
      ]
     },
     "execution_count": 53,
     "metadata": {},
     "output_type": "execute_result"
    }
   ],
   "source": [
    "# summary statistics of imdb_rating from the Data table\n",
    "data['imdb_rating'].describe()"
   ]
  },
  {
   "cell_type": "code",
   "execution_count": 54,
   "metadata": {},
   "outputs": [
    {
     "data": {
      "text/html": [
       "<div>\n",
       "<style scoped>\n",
       "    .dataframe tbody tr th:only-of-type {\n",
       "        vertical-align: middle;\n",
       "    }\n",
       "\n",
       "    .dataframe tbody tr th {\n",
       "        vertical-align: top;\n",
       "    }\n",
       "\n",
       "    .dataframe thead th {\n",
       "        text-align: right;\n",
       "    }\n",
       "</style>\n",
       "<table border=\"1\" class=\"dataframe\">\n",
       "  <thead>\n",
       "    <tr style=\"text-align: right;\">\n",
       "      <th></th>\n",
       "      <th>id</th>\n",
       "      <th>imdb_rating</th>\n",
       "    </tr>\n",
       "  </thead>\n",
       "  <tbody>\n",
       "    <tr>\n",
       "      <th>count</th>\n",
       "      <td>13385.000000</td>\n",
       "      <td>13224.000000</td>\n",
       "    </tr>\n",
       "    <tr>\n",
       "      <th>mean</th>\n",
       "      <td>6693.000000</td>\n",
       "      <td>8.624486</td>\n",
       "    </tr>\n",
       "    <tr>\n",
       "      <th>std</th>\n",
       "      <td>3864.061011</td>\n",
       "      <td>0.565143</td>\n",
       "    </tr>\n",
       "    <tr>\n",
       "      <th>min</th>\n",
       "      <td>1.000000</td>\n",
       "      <td>7.100000</td>\n",
       "    </tr>\n",
       "    <tr>\n",
       "      <th>25%</th>\n",
       "      <td>3347.000000</td>\n",
       "      <td>8.200000</td>\n",
       "    </tr>\n",
       "    <tr>\n",
       "      <th>50%</th>\n",
       "      <td>6693.000000</td>\n",
       "      <td>8.700000</td>\n",
       "    </tr>\n",
       "    <tr>\n",
       "      <th>75%</th>\n",
       "      <td>10039.000000</td>\n",
       "      <td>9.100000</td>\n",
       "    </tr>\n",
       "    <tr>\n",
       "      <th>max</th>\n",
       "      <td>13385.000000</td>\n",
       "      <td>9.800000</td>\n",
       "    </tr>\n",
       "  </tbody>\n",
       "</table>\n",
       "</div>"
      ],
      "text/plain": [
       "                 id   imdb_rating\n",
       "count  13385.000000  13224.000000\n",
       "mean    6693.000000      8.624486\n",
       "std     3864.061011      0.565143\n",
       "min        1.000000      7.100000\n",
       "25%     3347.000000      8.200000\n",
       "50%     6693.000000      8.700000\n",
       "75%    10039.000000      9.100000\n",
       "max    13385.000000      9.800000"
      ]
     },
     "execution_count": 54,
     "metadata": {},
     "output_type": "execute_result"
    }
   ],
   "source": [
    "# summary statistics of imdb_rating from the Avatar table\n",
    "avatar[['id', 'imdb_rating']].describe()"
   ]
  },
  {
   "cell_type": "markdown",
   "metadata": {},
   "source": [
    "Count of *id* and count of *imdb_rating* are different. It means that there are some NaN or Null values in the *imdb_rating* column."
   ]
  },
  {
   "cell_type": "code",
   "execution_count": 55,
   "metadata": {},
   "outputs": [
    {
     "data": {
      "text/html": [
       "<div>\n",
       "<style scoped>\n",
       "    .dataframe tbody tr th:only-of-type {\n",
       "        vertical-align: middle;\n",
       "    }\n",
       "\n",
       "    .dataframe tbody tr th {\n",
       "        vertical-align: top;\n",
       "    }\n",
       "\n",
       "    .dataframe thead th {\n",
       "        text-align: right;\n",
       "    }\n",
       "</style>\n",
       "<table border=\"1\" class=\"dataframe\">\n",
       "  <thead>\n",
       "    <tr style=\"text-align: right;\">\n",
       "      <th></th>\n",
       "      <th>id</th>\n",
       "      <th>book</th>\n",
       "      <th>book_num</th>\n",
       "      <th>chapter</th>\n",
       "      <th>chapter_num</th>\n",
       "      <th>character</th>\n",
       "      <th>full_text</th>\n",
       "      <th>character_words</th>\n",
       "      <th>writer</th>\n",
       "      <th>director</th>\n",
       "      <th>imdb_rating</th>\n",
       "    </tr>\n",
       "  </thead>\n",
       "  <tbody>\n",
       "    <tr>\n",
       "      <th>4460</th>\n",
       "      <td>4460</td>\n",
       "      <td>Water</td>\n",
       "      <td>1</td>\n",
       "      <td>The Siege of the North, Part 2</td>\n",
       "      <td>20</td>\n",
       "      <td>Scene Description</td>\n",
       "      <td>The episode opens to the Northern Water Tribe ...</td>\n",
       "      <td>NaN</td>\n",
       "      <td>Aaron Ehasz</td>\n",
       "      <td>Dave Filoni</td>\n",
       "      <td>NaN</td>\n",
       "    </tr>\n",
       "    <tr>\n",
       "      <th>4620</th>\n",
       "      <td>4620</td>\n",
       "      <td>Water</td>\n",
       "      <td>1</td>\n",
       "      <td>The Siege of the North, Part 2</td>\n",
       "      <td>20</td>\n",
       "      <td>Scene Description</td>\n",
       "      <td>Fades to credits.</td>\n",
       "      <td>NaN</td>\n",
       "      <td>Aaron Ehasz</td>\n",
       "      <td>Dave Filoni</td>\n",
       "      <td>NaN</td>\n",
       "    </tr>\n",
       "  </tbody>\n",
       "</table>\n",
       "</div>"
      ],
      "text/plain": [
       "        id   book  book_num                         chapter  chapter_num  \\\n",
       "4460  4460  Water         1  The Siege of the North, Part 2           20   \n",
       "4620  4620  Water         1  The Siege of the North, Part 2           20   \n",
       "\n",
       "              character                                          full_text  \\\n",
       "4460  Scene Description  The episode opens to the Northern Water Tribe ...   \n",
       "4620  Scene Description                                  Fades to credits.   \n",
       "\n",
       "     character_words       writer     director  imdb_rating  \n",
       "4460             NaN  Aaron Ehasz  Dave Filoni          NaN  \n",
       "4620             NaN  Aaron Ehasz  Dave Filoni          NaN  "
      ]
     },
     "execution_count": 55,
     "metadata": {},
     "output_type": "execute_result"
    }
   ],
   "source": [
    "# the first and the last rows with the NaN imdb_rating\n",
    "avatar[avatar['imdb_rating'].isnull()].iloc[[0, -1]]"
   ]
  },
  {
   "cell_type": "code",
   "execution_count": 56,
   "metadata": {},
   "outputs": [
    {
     "data": {
      "text/html": [
       "<div>\n",
       "<style scoped>\n",
       "    .dataframe tbody tr th:only-of-type {\n",
       "        vertical-align: middle;\n",
       "    }\n",
       "\n",
       "    .dataframe tbody tr th {\n",
       "        vertical-align: top;\n",
       "    }\n",
       "\n",
       "    .dataframe thead th {\n",
       "        text-align: right;\n",
       "    }\n",
       "</style>\n",
       "<table border=\"1\" class=\"dataframe\">\n",
       "  <thead>\n",
       "    <tr style=\"text-align: right;\">\n",
       "      <th></th>\n",
       "      <th>book</th>\n",
       "      <th>director</th>\n",
       "      <th>imdb_rating</th>\n",
       "      <th>book_chapt</th>\n",
       "      <th>true_chapt</th>\n",
       "      <th>series_rating</th>\n",
       "    </tr>\n",
       "  </thead>\n",
       "  <tbody>\n",
       "    <tr>\n",
       "      <th>20</th>\n",
       "      <td>Water</td>\n",
       "      <td>Dave Filoni</td>\n",
       "      <td>9.7</td>\n",
       "      <td>20</td>\n",
       "      <td>19</td>\n",
       "      <td>8.336991</td>\n",
       "    </tr>\n",
       "  </tbody>\n",
       "</table>\n",
       "</div>"
      ],
      "text/plain": [
       "     book     director  imdb_rating  book_chapt  true_chapt  series_rating\n",
       "20  Water  Dave Filoni          9.7          20          19       8.336991"
      ]
     },
     "execution_count": 56,
     "metadata": {},
     "output_type": "execute_result"
    }
   ],
   "source": [
    "# the 20th episode in the Data table\n",
    "data[data['book_chapt'] == 20]"
   ]
  },
  {
   "cell_type": "markdown",
   "metadata": {},
   "source": [
    "There is no rating for the 20th episode in the Avatar table, but it is in the Data table, so it is better to use values from the Data table to analyse ratings of episodes."
   ]
  },
  {
   "cell_type": "markdown",
   "metadata": {},
   "source": [
    "<h2 align=\"center\"> IMDb Ratings and Episodes </h2> "
   ]
  },
  {
   "cell_type": "code",
   "execution_count": 57,
   "metadata": {},
   "outputs": [],
   "source": [
    "sns.set_theme(style=\"darkgrid\")"
   ]
  },
  {
   "cell_type": "code",
   "execution_count": 58,
   "metadata": {},
   "outputs": [
    {
     "data": {
      "image/png": "[encoded data removed]",
      "text/plain": [
       "<Figure size 360x360 with 1 Axes>"
      ]
     },
     "metadata": {},
     "output_type": "display_data"
    }
   ],
   "source": [
    "sns.catplot(x='book', y='imdb_rating', data=data,\n",
    "            palette=['#4682B4', '#006400', '#8B0000'])\n",
    "plt.title('Book Ratings')\n",
    "plt.xlabel('Book')\n",
    "plt.ylabel('Rating')\n",
    "plt.yticks(range(0, 11))\n",
    "\n",
    "plt.show()"
   ]
  },
  {
   "cell_type": "code",
   "execution_count": 59,
   "metadata": {},
   "outputs": [
    {
     "data": {
      "image/png": "[encoded data removed]",
      "text/plain": [
       "<Figure size 720x360 with 1 Axes>"
      ]
     },
     "metadata": {},
     "output_type": "display_data"
    }
   ],
   "source": [
    "plt.figure(figsize=(10,5))\n",
    "sns.lineplot(x='book_chapt', y='imdb_rating', hue='book', data=data,\n",
    "             palette=['#4682B4', '#006400', '#8B0000'])\n",
    "plt.title('Episode Ratings')\n",
    "plt.xlabel('episode')\n",
    "plt.ylabel('rating')\n",
    "plt.yticks(range(0, 11))\n",
    "\n",
    "plt.show()"
   ]
  },
  {
   "cell_type": "code",
   "execution_count": 60,
   "metadata": {},
   "outputs": [
    {
     "data": {
      "image/png": "[encoded data removed]",
      "text/plain": [
       "<Figure size 432x288 with 1 Axes>"
      ]
     },
     "metadata": {},
     "output_type": "display_data"
    }
   ],
   "source": [
    "sns.regplot(x='book_chapt', y='imdb_rating', data=data)\n",
    "plt.title('Episode Ratings')\n",
    "plt.xlabel('episode')\n",
    "plt.ylabel('rating')\n",
    "plt.yticks(range(0, 11))\n",
    "\n",
    "plt.show()"
   ]
  },
  {
   "cell_type": "code",
   "execution_count": 61,
   "metadata": {},
   "outputs": [
    {
     "data": {
      "text/plain": [
       "Ttest_indResult(statistic=9.827235525153414, pvalue=4.4353484124194516e-17)"
      ]
     },
     "execution_count": 61,
     "metadata": {},
     "output_type": "execute_result"
    }
   ],
   "source": [
    "stats.ttest_ind(data['book_chapt'], data['imdb_rating'])"
   ]
  },
  {
   "cell_type": "code",
   "execution_count": null,
   "metadata": {},
   "outputs": [],
   "source": []
  }
 ],
 "metadata": {
  "kernelspec": {
   "display_name": "Python 3",
   "language": "python",
   "name": "python3"
  },
  "language_info": {
   "codemirror_mode": {
    "name": "ipython",
    "version": 3
   },
   "file_extension": ".py",
   "mimetype": "text/x-python",
   "name": "python",
   "nbconvert_exporter": "python",
   "pygments_lexer": "ipython3",
   "version": "3.8.5"
  }
 },
 "nbformat": 4,
 "nbformat_minor": 4
}
